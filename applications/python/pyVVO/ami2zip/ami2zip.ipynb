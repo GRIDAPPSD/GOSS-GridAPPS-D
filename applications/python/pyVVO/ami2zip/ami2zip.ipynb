{
 "cells": [
  {
   "cell_type": "code",
   "execution_count": 26,
   "metadata": {
    "collapsed": true
   },
   "outputs": [],
   "source": [
    "import pandas as pd\n",
    "import numpy as np\n",
    "\n",
    "reactivePower=pd.read_csv('R3_12_47_1_AMI_residential_phase12_reactive_power.csv',skiprows=8)\n",
    "realPower=pd.read_csv('R3_12_47_1_AMI_residential_phase12_real_power.csv',skiprows=8)\n",
    "\n",
    "a=realPower.shape\n",
    "a\n",
    "type(a)\n",
    "a[0]\n",
    "\n",
    "realPower.head(5)\n",
    "\n",
    "a=realPower.index\n",
    "\n",
    "aa=realPower.ix[:,0:1]\n",
    "\n",
    "type(aa)\n",
    "\n",
    "type(aa[:1])"
   ]
  },
  {
   "cell_type": "code",
   "execution_count": null,
   "metadata": {
    "collapsed": true
   },
   "outputs": [],
   "source": []
  },
  {
   "cell_type": "code",
   "execution_count": null,
   "metadata": {
    "collapsed": true
   },
   "outputs": [],
   "source": []
  },
  {
   "cell_type": "code",
   "execution_count": null,
   "metadata": {
    "collapsed": true
   },
   "outputs": [],
   "source": []
  },
  {
   "cell_type": "code",
   "execution_count": null,
   "metadata": {
    "collapsed": true
   },
   "outputs": [],
   "source": [
    "import csv\n",
    "import numpy as np"
   ]
  },
  {
   "cell_type": "markdown",
   "metadata": {},
   "source": [
    "Function to convert CSV files to numpy Array. Discarding the description sentences on top of each file"
   ]
  },
  {
   "cell_type": "code",
   "execution_count": 214,
   "metadata": {
    "collapsed": true
   },
   "outputs": [],
   "source": [
    "def csv2array(fileName):\n",
    "    newdata=[]\n",
    "    with open(fileName,'r') as fileData:\n",
    "        rowData = csv.reader(fileData, \n",
    "                           delimiter = ',', \n",
    "                           quotechar = '\"')\n",
    "        for data in rowData:\n",
    "            if len(data)>2:\n",
    "                newdata.append(data)\n",
    "    data_array = np.asarray(newdata)\n",
    "    return convertDateTime(data_array)"
   ]
  },
  {
   "cell_type": "markdown",
   "metadata": {},
   "source": [
    "Fist Column of the array is datetime with 'PST' extension. This function strips timezone and converts it into numpy datetime64 format"
   ]
  },
  {
   "cell_type": "code",
   "execution_count": 211,
   "metadata": {
    "collapsed": true
   },
   "outputs": [],
   "source": [
    "def convertDateTime(data_array):\n",
    "    firstCol=data_array[1:,0]\n",
    "    stripFirstCol=[ele.rstrip(' PST') for ele in firstCol]\n",
    "    dateTimeFirstCol=[np.datetime64(ele) for ele in stripFirstCol]\n",
    "    data_array[1:,0]=dateTimeFirstCol\n",
    "    data_array=np\n",
    "    return data_array"
   ]
  },
  {
   "cell_type": "markdown",
   "metadata": {},
   "source": [
    "Create 15 minute interval of datetime array to retrive from the original data if it has minute by minute interval data"
   ]
  },
  {
   "cell_type": "code",
   "execution_count": 278,
   "metadata": {},
   "outputs": [],
   "source": [
    "def dateArray15mins(data_array):\n",
    "    from datetime import datetime, timedelta\n",
    "\n",
    "    def datetime_range(start, end, delta):\n",
    "        current = start\n",
    "        while current < end:\n",
    "            yield current\n",
    "            current += delta\n",
    "\n",
    "    dts = [dt.strftime('%Y-%m-%dT%H:%M:%S') for dt in \n",
    "           datetime_range((np.datetime64(data_array[1,0]).astype(datetime)),\n",
    "                          (np.datetime64(data_array[len(data_array)-1,0]).astype(datetime)),\n",
    "                          timedelta(minutes=15))]\n",
    "    return dts"
   ]
  },
  {
   "cell_type": "code",
   "execution_count": 387,
   "metadata": {
    "collapsed": true
   },
   "outputs": [],
   "source": [
    "def ind15mins(data_array):\n",
    "    ind=[0]\n",
    "    ind.extend((np.arange(1,len(data_array),15)).tolist())\n",
    "    new_array=data_array[ind,:]\n",
    "    return new_array"
   ]
  },
  {
   "cell_type": "code",
   "execution_count": null,
   "metadata": {
    "collapsed": true
   },
   "outputs": [],
   "source": []
  },
  {
   "cell_type": "code",
   "execution_count": 388,
   "metadata": {
    "collapsed": true
   },
   "outputs": [],
   "source": [
    "reactivePfile='R3_12_47_1_AMI_residential_phase12_reactive_power.csv'\n",
    "realPfile='R3_12_47_1_AMI_residential_phase12_reactive_power.csv'\n",
    "reactiveVfile='R3_12_47_1_AMI_residential_phase12_reactive_voltage.csv'\n",
    "realVfile='R3_12_47_1_AMI_residential_phase12_real_voltage.csv'"
   ]
  },
  {
   "cell_type": "code",
   "execution_count": 389,
   "metadata": {},
   "outputs": [],
   "source": [
    "reactivePower=csv2array(reactivePfile)\n",
    "realPower=csv2array(realPfile)\n",
    "\n",
    "reactiveVoltage=csv2array(reactiveVfile)\n",
    "realVoltage=csv2array(realVfile)\n",
    "\n",
    "newReactiveVoltage=ind15mins(reactiveVoltage)\n",
    "\n",
    "\n",
    "\n",
    "d=dateArray15mins(realVdataArray)"
   ]
  },
  {
   "cell_type": "code",
   "execution_count": 308,
   "metadata": {},
   "outputs": [
    {
     "data": {
      "text/plain": [
       "array([['2013-07-01T00:00:00', '0.000000', '0.000000', ..., '0.000000',\n",
       "        '0.000000', '0.000000'],\n",
       "       ['2013-07-01T00:15:00', '123.776575', '-250.305637', ...,\n",
       "        '124.159448', '-250.565445', '125.598387'],\n",
       "       ['2013-07-01T00:30:00', '123.762807', '-250.298469', ...,\n",
       "        '124.188670', '-250.546477', '125.571105'],\n",
       "       ..., \n",
       "       ['2013-07-01T01:00:00', '123.495024', '-250.947321', ...,\n",
       "        '123.929447', '-251.179203', '125.450847'],\n",
       "       ['2013-07-01T01:15:00', '123.174700', '-251.070177', ...,\n",
       "        '123.621059', '-251.309288', '125.531493'],\n",
       "       ['2013-07-01T01:30:00', '122.852948', '-251.209413', ...,\n",
       "        '123.287790', '-251.461318', '125.724741']], \n",
       "      dtype='<U40')"
      ]
     },
     "execution_count": 308,
     "metadata": {},
     "output_type": "execute_result"
    }
   ],
   "source": [
    "newReactiveVoltage"
   ]
  },
  {
   "cell_type": "code",
   "execution_count": null,
   "metadata": {
    "collapsed": true
   },
   "outputs": [],
   "source": []
  },
  {
   "cell_type": "code",
   "execution_count": null,
   "metadata": {
    "collapsed": true
   },
   "outputs": [],
   "source": []
  },
  {
   "cell_type": "code",
   "execution_count": null,
   "metadata": {
    "collapsed": true
   },
   "outputs": [],
   "source": []
  },
  {
   "cell_type": "code",
   "execution_count": null,
   "metadata": {
    "collapsed": true
   },
   "outputs": [],
   "source": []
  },
  {
   "cell_type": "code",
   "execution_count": null,
   "metadata": {
    "collapsed": true
   },
   "outputs": [],
   "source": []
  },
  {
   "cell_type": "code",
   "execution_count": null,
   "metadata": {
    "collapsed": true
   },
   "outputs": [],
   "source": []
  },
  {
   "cell_type": "code",
   "execution_count": null,
   "metadata": {
    "collapsed": true
   },
   "outputs": [],
   "source": []
  },
  {
   "cell_type": "code",
   "execution_count": null,
   "metadata": {
    "collapsed": true
   },
   "outputs": [],
   "source": []
  },
  {
   "cell_type": "code",
   "execution_count": 265,
   "metadata": {},
   "outputs": [
    {
     "data": {
      "text/plain": [
       "numpy.datetime64('2013-07-01T00:15:00')"
      ]
     },
     "execution_count": 265,
     "metadata": {},
     "output_type": "execute_result"
    }
   ],
   "source": [
    "d=dts[1]\n",
    "np.datetime64(d)"
   ]
  },
  {
   "cell_type": "code",
   "execution_count": null,
   "metadata": {
    "collapsed": true
   },
   "outputs": [],
   "source": []
  },
  {
   "cell_type": "code",
   "execution_count": 270,
   "metadata": {},
   "outputs": [],
   "source": [
    "t = np.datetime64('2012-06-30T20:00:00')"
   ]
  },
  {
   "cell_type": "code",
   "execution_count": null,
   "metadata": {
    "collapsed": true
   },
   "outputs": [],
   "source": []
  },
  {
   "cell_type": "code",
   "execution_count": 299,
   "metadata": {},
   "outputs": [
    {
     "data": {
      "text/plain": [
       "array([ 1, 16, 31, 46, 61, 76])"
      ]
     },
     "execution_count": 299,
     "metadata": {},
     "output_type": "execute_result"
    }
   ],
   "source": [
    "ind=np.arange(1,90,15)"
   ]
  },
  {
   "cell_type": "code",
   "execution_count": 297,
   "metadata": {},
   "outputs": [
    {
     "data": {
      "text/plain": [
       "array([  0. ,   0.3,   0.6,   0.9,   1.2,   1.5,   1.8,   2.1,   2.4,\n",
       "         2.7,   3. ,   3.3,   3.6,   3.9,   4.2,   4.5,   4.8,   5.1,\n",
       "         5.4,   5.7,   6. ,   6.3,   6.6,   6.9,   7.2,   7.5,   7.8,\n",
       "         8.1,   8.4,   8.7,   9. ,   9.3,   9.6,   9.9,  10.2,  10.5,\n",
       "        10.8,  11.1,  11.4,  11.7,  12. ,  12.3,  12.6,  12.9,  13.2,\n",
       "        13.5,  13.8,  14.1,  14.4,  14.7])"
      ]
     },
     "execution_count": 297,
     "metadata": {},
     "output_type": "execute_result"
    }
   ],
   "source": [
    "np.linspace(0,15,, endpoint=False)"
   ]
  },
  {
   "cell_type": "code",
   "execution_count": 294,
   "metadata": {},
   "outputs": [
    {
     "data": {
      "text/plain": [
       "list"
      ]
     },
     "execution_count": 294,
     "metadata": {},
     "output_type": "execute_result"
    }
   ],
   "source": [
    "ind=[0,1,5]\n",
    "type(ind)"
   ]
  },
  {
   "cell_type": "code",
   "execution_count": null,
   "metadata": {
    "collapsed": true
   },
   "outputs": [],
   "source": []
  },
  {
   "cell_type": "code",
   "execution_count": 319,
   "metadata": {},
   "outputs": [
    {
     "data": {
      "text/plain": [
       "array(['# timestamp', 'tpm0_R3-12-47-1_tm_3_R3-12-47-1_tn_411',\n",
       "       'tpm0_R3-12-47-1_tm_4_R3-12-47-1_tn_412',\n",
       "       'tpm0_R3-12-47-1_tm_5_R3-12-47-1_tn_413',\n",
       "       'tpm0_R3-12-47-1_tm_6_R3-12-47-1_tn_414',\n",
       "       'tpm0_R3-12-47-1_tm_7_R3-12-47-1_tn_415',\n",
       "       'tpm0_R3-12-47-1_tm_8_R3-12-47-1_tn_416',\n",
       "       'tpm0_R3-12-47-1_tm_10_R3-12-47-1_tn_418',\n",
       "       'tpm1_R3-12-47-1_tm_10_R3-12-47-1_tn_418',\n",
       "       'tpm2_R3-12-47-1_tm_10_R3-12-47-1_tn_418',\n",
       "       'tpm0_R3-12-47-1_tm_11_R3-12-47-1_tn_419',\n",
       "       'tpm1_R3-12-47-1_tm_11_R3-12-47-1_tn_419',\n",
       "       'tpm2_R3-12-47-1_tm_11_R3-12-47-1_tn_419',\n",
       "       'tpm0_R3-12-47-1_tm_12_R3-12-47-1_tn_420',\n",
       "       'tpm0_R3-12-47-1_tm_13_R3-12-47-1_tn_421',\n",
       "       'tpm0_R3-12-47-1_tm_14_R3-12-47-1_tn_422',\n",
       "       'tpm0_R3-12-47-1_tm_15_R3-12-47-1_tn_423',\n",
       "       'tpm0_R3-12-47-1_tm_16_R3-12-47-1_tn_424',\n",
       "       'tpm1_R3-12-47-1_tm_16_R3-12-47-1_tn_424',\n",
       "       'tpm0_R3-12-47-1_tm_17_R3-12-47-1_tn_425',\n",
       "       'tpm1_R3-12-47-1_tm_17_R3-12-47-1_tn_425',\n",
       "       'tpm0_R3-12-47-1_tm_18_R3-12-47-1_tn_426',\n",
       "       'tpm1_R3-12-47-1_tm_18_R3-12-47-1_tn_426',\n",
       "       'tpm0_R3-12-47-1_tm_19_R3-12-47-1_tn_427',\n",
       "       'tpm0_R3-12-47-1_tm_20_R3-12-47-1_tn_428',\n",
       "       'tpm0_R3-12-47-1_tm_21_R3-12-47-1_tn_429',\n",
       "       'tpm0_R3-12-47-1_tm_22_R3-12-47-1_tn_430',\n",
       "       'tpm1_R3-12-47-1_tm_22_R3-12-47-1_tn_430',\n",
       "       'tpm0_R3-12-47-1_tm_23_R3-12-47-1_tn_431',\n",
       "       'tpm0_R3-12-47-1_tm_24_R3-12-47-1_tn_432',\n",
       "       'tpm0_R3-12-47-1_tm_25_R3-12-47-1_tn_433',\n",
       "       'tpm0_R3-12-47-1_tm_26_R3-12-47-1_tn_434',\n",
       "       'tpm1_R3-12-47-1_tm_26_R3-12-47-1_tn_434',\n",
       "       'tpm0_R3-12-47-1_tm_27_R3-12-47-1_tn_435',\n",
       "       'tpm1_R3-12-47-1_tm_27_R3-12-47-1_tn_435',\n",
       "       'tpm0_R3-12-47-1_tm_28_R3-12-47-1_tn_436',\n",
       "       'tpm1_R3-12-47-1_tm_28_R3-12-47-1_tn_436',\n",
       "       'tpm0_R3-12-47-1_tm_29_R3-12-47-1_tn_437',\n",
       "       'tpm1_R3-12-47-1_tm_29_R3-12-47-1_tn_437',\n",
       "       'tpm0_R3-12-47-1_tm_30_R3-12-47-1_tn_438',\n",
       "       'tpm1_R3-12-47-1_tm_30_R3-12-47-1_tn_438',\n",
       "       'tpm0_R3-12-47-1_tm_31_R3-12-47-1_tn_439',\n",
       "       'tpm1_R3-12-47-1_tm_31_R3-12-47-1_tn_439',\n",
       "       'tpm2_R3-12-47-1_tm_31_R3-12-47-1_tn_439',\n",
       "       'tpm0_R3-12-47-1_tm_32_R3-12-47-1_tn_440',\n",
       "       'tpm1_R3-12-47-1_tm_32_R3-12-47-1_tn_440',\n",
       "       'tpm2_R3-12-47-1_tm_32_R3-12-47-1_tn_440',\n",
       "       'tpm0_R3-12-47-1_tm_33_R3-12-47-1_tn_441',\n",
       "       'tpm1_R3-12-47-1_tm_33_R3-12-47-1_tn_441',\n",
       "       'tpm2_R3-12-47-1_tm_33_R3-12-47-1_tn_441',\n",
       "       'tpm0_R3-12-47-1_tm_34_R3-12-47-1_tn_442',\n",
       "       'tpm1_R3-12-47-1_tm_34_R3-12-47-1_tn_442',\n",
       "       'tpm0_R3-12-47-1_tm_35_R3-12-47-1_tn_443',\n",
       "       'tpm0_R3-12-47-1_tm_36_R3-12-47-1_tn_444',\n",
       "       'tpm0_R3-12-47-1_tm_37_R3-12-47-1_tn_445',\n",
       "       'tpm1_R3-12-47-1_tm_37_R3-12-47-1_tn_445',\n",
       "       'tpm0_R3-12-47-1_tm_38_R3-12-47-1_tn_446',\n",
       "       'tpm0_R3-12-47-1_tm_39_R3-12-47-1_tn_447',\n",
       "       'tpm0_R3-12-47-1_tm_40_R3-12-47-1_tn_448',\n",
       "       'tpm0_R3-12-47-1_tm_41_R3-12-47-1_tn_449',\n",
       "       'tpm0_R3-12-47-1_tm_42_R3-12-47-1_tn_450',\n",
       "       'tpm0_R3-12-47-1_tm_43_R3-12-47-1_tn_451',\n",
       "       'tpm0_R3-12-47-1_tm_44_R3-12-47-1_tn_452',\n",
       "       'tpm0_R3-12-47-1_tm_45_R3-12-47-1_tn_453',\n",
       "       'tpm0_R3-12-47-1_tm_46_R3-12-47-1_tn_454',\n",
       "       'tpm0_R3-12-47-1_tm_47_R3-12-47-1_tn_455',\n",
       "       'tpm0_R3-12-47-1_tm_49_R3-12-47-1_tn_457',\n",
       "       'tpm0_R3-12-47-1_tm_50_R3-12-47-1_tn_458',\n",
       "       'tpm0_R3-12-47-1_tm_57_R3-12-47-1_tn_465',\n",
       "       'tpm0_R3-12-47-1_tm_58_R3-12-47-1_tn_466',\n",
       "       'tpm0_R3-12-47-1_tm_59_R3-12-47-1_tn_467',\n",
       "       'tpm0_R3-12-47-1_tm_60_R3-12-47-1_tn_468',\n",
       "       'tpm0_R3-12-47-1_tm_63_R3-12-47-1_tn_471',\n",
       "       'tpm0_R3-12-47-1_tm_64_R3-12-47-1_tn_472',\n",
       "       'tpm0_R3-12-47-1_tm_67_R3-12-47-1_tn_475',\n",
       "       'tpm0_R3-12-47-1_tm_68_R3-12-47-1_tn_476',\n",
       "       'tpm0_R3-12-47-1_tm_69_R3-12-47-1_tn_477',\n",
       "       'tpm0_R3-12-47-1_tm_72_R3-12-47-1_tn_480',\n",
       "       'tpm0_R3-12-47-1_tm_74_R3-12-47-1_tn_482',\n",
       "       'tpm0_R3-12-47-1_tm_76_R3-12-47-1_tn_484',\n",
       "       'tpm0_R3-12-47-1_tm_77_R3-12-47-1_tn_485',\n",
       "       'tpm0_R3-12-47-1_tm_78_R3-12-47-1_tn_486',\n",
       "       'tpm1_R3-12-47-1_tm_78_R3-12-47-1_tn_486',\n",
       "       'tpm0_R3-12-47-1_tm_79_R3-12-47-1_tn_487',\n",
       "       'tpm1_R3-12-47-1_tm_79_R3-12-47-1_tn_487',\n",
       "       'tpm0_R3-12-47-1_tm_80_R3-12-47-1_tn_488',\n",
       "       'tpm1_R3-12-47-1_tm_80_R3-12-47-1_tn_488',\n",
       "       'tpm0_R3-12-47-1_tm_81_R3-12-47-1_tn_489',\n",
       "       'tpm0_R3-12-47-1_tm_82_R3-12-47-1_tn_490',\n",
       "       'tpm0_R3-12-47-1_tm_83_R3-12-47-1_tn_491',\n",
       "       'tpm0_R3-12-47-1_tm_84_R3-12-47-1_tn_492',\n",
       "       'tpm1_R3-12-47-1_tm_84_R3-12-47-1_tn_492',\n",
       "       'tpm0_R3-12-47-1_tm_85_R3-12-47-1_tn_493',\n",
       "       'tpm1_R3-12-47-1_tm_85_R3-12-47-1_tn_493',\n",
       "       'tpm0_R3-12-47-1_tm_86_R3-12-47-1_tn_494',\n",
       "       'tpm1_R3-12-47-1_tm_86_R3-12-47-1_tn_494',\n",
       "       'tpm0_R3-12-47-1_tm_87_R3-12-47-1_tn_495',\n",
       "       'tpm0_R3-12-47-1_tm_88_R3-12-47-1_tn_496',\n",
       "       'tpm0_R3-12-47-1_tm_98_R3-12-47-1_tn_506',\n",
       "       'tpm1_R3-12-47-1_tm_98_R3-12-47-1_tn_506',\n",
       "       'tpm2_R3-12-47-1_tm_98_R3-12-47-1_tn_506',\n",
       "       'tpm3_R3-12-47-1_tm_98_R3-12-47-1_tn_506',\n",
       "       'tpm4_R3-12-47-1_tm_98_R3-12-47-1_tn_506',\n",
       "       'tpm5_R3-12-47-1_tm_98_R3-12-47-1_tn_506',\n",
       "       'tpm6_R3-12-47-1_tm_98_R3-12-47-1_tn_506',\n",
       "       'tpm0_R3-12-47-1_tm_99_R3-12-47-1_tn_507',\n",
       "       'tpm1_R3-12-47-1_tm_99_R3-12-47-1_tn_507',\n",
       "       'tpm2_R3-12-47-1_tm_99_R3-12-47-1_tn_507',\n",
       "       'tpm3_R3-12-47-1_tm_99_R3-12-47-1_tn_507',\n",
       "       'tpm4_R3-12-47-1_tm_99_R3-12-47-1_tn_507',\n",
       "       'tpm5_R3-12-47-1_tm_99_R3-12-47-1_tn_507',\n",
       "       'tpm6_R3-12-47-1_tm_99_R3-12-47-1_tn_507',\n",
       "       'tpm0_R3-12-47-1_tm_100_R3-12-47-1_tn_508',\n",
       "       'tpm1_R3-12-47-1_tm_100_R3-12-47-1_tn_508',\n",
       "       'tpm2_R3-12-47-1_tm_100_R3-12-47-1_tn_508',\n",
       "       'tpm3_R3-12-47-1_tm_100_R3-12-47-1_tn_508',\n",
       "       'tpm4_R3-12-47-1_tm_100_R3-12-47-1_tn_508',\n",
       "       'tpm5_R3-12-47-1_tm_100_R3-12-47-1_tn_508',\n",
       "       'tpm6_R3-12-47-1_tm_100_R3-12-47-1_tn_508',\n",
       "       'tpm0_R3-12-47-1_tm_101_R3-12-47-1_tn_509',\n",
       "       'tpm0_R3-12-47-1_tm_102_R3-12-47-1_tn_510',\n",
       "       'tpm0_R3-12-47-1_tm_103_R3-12-47-1_tn_511',\n",
       "       'tpm0_R3-12-47-1_tm_104_R3-12-47-1_tn_512',\n",
       "       'tpm0_R3-12-47-1_tm_105_R3-12-47-1_tn_513',\n",
       "       'tpm0_R3-12-47-1_tm_106_R3-12-47-1_tn_514',\n",
       "       'tpm0_R3-12-47-1_tm_109_R3-12-47-1_tn_517',\n",
       "       'tpm0_R3-12-47-1_tm_110_R3-12-47-1_tn_518',\n",
       "       'tpm0_R3-12-47-1_tm_113_R3-12-47-1_tn_521',\n",
       "       'tpm1_R3-12-47-1_tm_113_R3-12-47-1_tn_521',\n",
       "       'tpm2_R3-12-47-1_tm_113_R3-12-47-1_tn_521',\n",
       "       'tpm0_R3-12-47-1_tm_114_R3-12-47-1_tn_522',\n",
       "       'tpm1_R3-12-47-1_tm_114_R3-12-47-1_tn_522',\n",
       "       'tpm2_R3-12-47-1_tm_114_R3-12-47-1_tn_522',\n",
       "       'tpm0_R3-12-47-1_tm_115_R3-12-47-1_tn_523',\n",
       "       'tpm1_R3-12-47-1_tm_115_R3-12-47-1_tn_523',\n",
       "       'tpm2_R3-12-47-1_tm_115_R3-12-47-1_tn_523',\n",
       "       'tpm0_R3-12-47-1_tm_118_R3-12-47-1_tn_526',\n",
       "       'tpm1_R3-12-47-1_tm_118_R3-12-47-1_tn_526',\n",
       "       'tpm2_R3-12-47-1_tm_118_R3-12-47-1_tn_526',\n",
       "       'tpm3_R3-12-47-1_tm_118_R3-12-47-1_tn_526',\n",
       "       'tpm4_R3-12-47-1_tm_118_R3-12-47-1_tn_526',\n",
       "       'tpm5_R3-12-47-1_tm_118_R3-12-47-1_tn_526',\n",
       "       'tpm0_R3-12-47-1_tm_119_R3-12-47-1_tn_527',\n",
       "       'tpm1_R3-12-47-1_tm_119_R3-12-47-1_tn_527',\n",
       "       'tpm2_R3-12-47-1_tm_119_R3-12-47-1_tn_527',\n",
       "       'tpm3_R3-12-47-1_tm_119_R3-12-47-1_tn_527',\n",
       "       'tpm4_R3-12-47-1_tm_119_R3-12-47-1_tn_527',\n",
       "       'tpm5_R3-12-47-1_tm_119_R3-12-47-1_tn_527',\n",
       "       'tpm0_R3-12-47-1_tm_120_R3-12-47-1_tn_528',\n",
       "       'tpm1_R3-12-47-1_tm_120_R3-12-47-1_tn_528',\n",
       "       'tpm2_R3-12-47-1_tm_120_R3-12-47-1_tn_528',\n",
       "       'tpm3_R3-12-47-1_tm_120_R3-12-47-1_tn_528',\n",
       "       'tpm4_R3-12-47-1_tm_120_R3-12-47-1_tn_528',\n",
       "       'tpm5_R3-12-47-1_tm_120_R3-12-47-1_tn_528',\n",
       "       'tpm0_R3-12-47-1_tm_121_R3-12-47-1_tn_529',\n",
       "       'tpm0_R3-12-47-1_tm_122_R3-12-47-1_tn_530',\n",
       "       'tpm0_R3-12-47-1_tm_123_R3-12-47-1_tn_531',\n",
       "       'tpm0_R3-12-47-1_tm_124_R3-12-47-1_tn_532',\n",
       "       'tpm1_R3-12-47-1_tm_124_R3-12-47-1_tn_532',\n",
       "       'tpm0_R3-12-47-1_tm_125_R3-12-47-1_tn_533',\n",
       "       'tpm1_R3-12-47-1_tm_125_R3-12-47-1_tn_533',\n",
       "       'tpm0_R3-12-47-1_tm_126_R3-12-47-1_tn_534',\n",
       "       'tpm1_R3-12-47-1_tm_126_R3-12-47-1_tn_534',\n",
       "       'tpm0_R3-12-47-1_tm_127_R3-12-47-1_tn_535',\n",
       "       'tpm1_R3-12-47-1_tm_127_R3-12-47-1_tn_535',\n",
       "       'tpm2_R3-12-47-1_tm_127_R3-12-47-1_tn_535',\n",
       "       'tpm0_R3-12-47-1_tm_128_R3-12-47-1_tn_536',\n",
       "       'tpm1_R3-12-47-1_tm_128_R3-12-47-1_tn_536',\n",
       "       'tpm2_R3-12-47-1_tm_128_R3-12-47-1_tn_536',\n",
       "       'tpm0_R3-12-47-1_tm_129_R3-12-47-1_tn_537',\n",
       "       'tpm1_R3-12-47-1_tm_129_R3-12-47-1_tn_537',\n",
       "       'tpm2_R3-12-47-1_tm_129_R3-12-47-1_tn_537',\n",
       "       'tpm0_R3-12-47-1_tm_130_R3-12-47-1_tn_538',\n",
       "       'tpm1_R3-12-47-1_tm_130_R3-12-47-1_tn_538',\n",
       "       'tpm2_R3-12-47-1_tm_130_R3-12-47-1_tn_538',\n",
       "       'tpm0_R3-12-47-1_tm_131_R3-12-47-1_tn_539',\n",
       "       'tpm1_R3-12-47-1_tm_131_R3-12-47-1_tn_539',\n",
       "       'tpm2_R3-12-47-1_tm_131_R3-12-47-1_tn_539',\n",
       "       'tpm0_R3-12-47-1_tm_132_R3-12-47-1_tn_540',\n",
       "       'tpm1_R3-12-47-1_tm_132_R3-12-47-1_tn_540',\n",
       "       'tpm2_R3-12-47-1_tm_132_R3-12-47-1_tn_540',\n",
       "       'tpm0_R3-12-47-1_tm_133_R3-12-47-1_tn_541',\n",
       "       'tpm1_R3-12-47-1_tm_133_R3-12-47-1_tn_541',\n",
       "       'tpm0_R3-12-47-1_tm_134_R3-12-47-1_tn_542',\n",
       "       'tpm1_R3-12-47-1_tm_134_R3-12-47-1_tn_542',\n",
       "       'tpm0_R3-12-47-1_tm_135_R3-12-47-1_tn_543',\n",
       "       'tpm1_R3-12-47-1_tm_135_R3-12-47-1_tn_543',\n",
       "       'tpm0_R3-12-47-1_tm_136_R3-12-47-1_tn_544',\n",
       "       'tpm0_R3-12-47-1_tm_137_R3-12-47-1_tn_545',\n",
       "       'tpm0_R3-12-47-1_tm_138_R3-12-47-1_tn_546',\n",
       "       'tpm0_R3-12-47-1_tm_139_R3-12-47-1_tn_547',\n",
       "       'tpm0_R3-12-47-1_tm_140_R3-12-47-1_tn_548',\n",
       "       'tpm0_R3-12-47-1_tm_141_R3-12-47-1_tn_549',\n",
       "       'tpm0_R3-12-47-1_tm_143_R3-12-47-1_tn_551',\n",
       "       'tpm0_R3-12-47-1_tm_146_R3-12-47-1_tn_554',\n",
       "       'tpm0_R3-12-47-1_tm_147_R3-12-47-1_tn_555',\n",
       "       'tpm0_R3-12-47-1_tm_154_R3-12-47-1_tn_562',\n",
       "       'tpm0_R3-12-47-1_tm_155_R3-12-47-1_tn_563',\n",
       "       'tpm0_R3-12-47-1_tm_156_R3-12-47-1_tn_564',\n",
       "       'tpm1_R3-12-47-1_tm_156_R3-12-47-1_tn_564',\n",
       "       'tpm0_R3-12-47-1_tm_157_R3-12-47-1_tn_565',\n",
       "       'tpm1_R3-12-47-1_tm_157_R3-12-47-1_tn_565',\n",
       "       'tpm0_R3-12-47-1_tm_158_R3-12-47-1_tn_566',\n",
       "       'tpm1_R3-12-47-1_tm_158_R3-12-47-1_tn_566',\n",
       "       'tpm0_R3-12-47-1_tm_160_R3-12-47-1_tn_568',\n",
       "       'tpm0_R3-12-47-1_tm_161_R3-12-47-1_tn_569',\n",
       "       'tpm0_R3-12-47-1_tm_166_R3-12-47-1_tn_574',\n",
       "       'tpm0_R3-12-47-1_tm_167_R3-12-47-1_tn_575',\n",
       "       'tpm0_R3-12-47-1_tm_168_R3-12-47-1_tn_576',\n",
       "       'tpm0_R3-12-47-1_tm_169_R3-12-47-1_tn_577',\n",
       "       'tpm0_R3-12-47-1_tm_170_R3-12-47-1_tn_578',\n",
       "       'tpm0_R3-12-47-1_tm_171_R3-12-47-1_tn_579',\n",
       "       'tpm0_R3-12-47-1_tm_176_R3-12-47-1_tn_584',\n",
       "       'tpm0_R3-12-47-1_tm_177_R3-12-47-1_tn_585',\n",
       "       'tpm0_R3-12-47-1_tm_178_R3-12-47-1_tn_586',\n",
       "       'tpm0_R3-12-47-1_tm_181_R3-12-47-1_tn_589',\n",
       "       'tpm0_R3-12-47-1_tm_182_R3-12-47-1_tn_590',\n",
       "       'tpm0_R3-12-47-1_tm_183_R3-12-47-1_tn_591',\n",
       "       'tpm0_R3-12-47-1_tm_184_R3-12-47-1_tn_592',\n",
       "       'tpm1_R3-12-47-1_tm_184_R3-12-47-1_tn_592',\n",
       "       'tpm2_R3-12-47-1_tm_184_R3-12-47-1_tn_592',\n",
       "       'tpm0_R3-12-47-1_tm_185_R3-12-47-1_tn_593',\n",
       "       'tpm1_R3-12-47-1_tm_185_R3-12-47-1_tn_593',\n",
       "       'tpm2_R3-12-47-1_tm_185_R3-12-47-1_tn_593',\n",
       "       'tpm0_R3-12-47-1_tm_186_R3-12-47-1_tn_594',\n",
       "       'tpm1_R3-12-47-1_tm_186_R3-12-47-1_tn_594',\n",
       "       'tpm2_R3-12-47-1_tm_186_R3-12-47-1_tn_594',\n",
       "       'tpm0_R3-12-47-1_tm_187_R3-12-47-1_tn_595',\n",
       "       'tpm0_R3-12-47-1_tm_188_R3-12-47-1_tn_596',\n",
       "       'tpm0_R3-12-47-1_tm_190_R3-12-47-1_tn_598',\n",
       "       'tpm1_R3-12-47-1_tm_190_R3-12-47-1_tn_598',\n",
       "       'tpm0_R3-12-47-1_tm_191_R3-12-47-1_tn_599',\n",
       "       'tpm1_R3-12-47-1_tm_191_R3-12-47-1_tn_599',\n",
       "       'tpm0_R3-12-47-1_tm_192_R3-12-47-1_tn_600',\n",
       "       'tpm0_R3-12-47-1_tm_193_R3-12-47-1_tn_601',\n",
       "       'tpm0_R3-12-47-1_tm_200_R3-12-47-1_tn_608',\n",
       "       'tpm0_R3-12-47-1_tm_201_R3-12-47-1_tn_609',\n",
       "       'tpm0_R3-12-47-1_tm_202_R3-12-47-1_tn_610',\n",
       "       'tpm0_R3-12-47-1_tm_203_R3-12-47-1_tn_611',\n",
       "       'tpm0_R3-12-47-1_tm_204_R3-12-47-1_tn_612',\n",
       "       'tpm1_R3-12-47-1_tm_204_R3-12-47-1_tn_612',\n",
       "       'tpm0_R3-12-47-1_tm_205_R3-12-47-1_tn_613',\n",
       "       'tpm1_R3-12-47-1_tm_205_R3-12-47-1_tn_613',\n",
       "       'tpm0_R3-12-47-1_tm_206_R3-12-47-1_tn_614',\n",
       "       'tpm1_R3-12-47-1_tm_206_R3-12-47-1_tn_614',\n",
       "       'tpm0_R3-12-47-1_tm_207_R3-12-47-1_tn_615',\n",
       "       'tpm0_R3-12-47-1_tm_208_R3-12-47-1_tn_616',\n",
       "       'tpm0_R3-12-47-1_tm_209_R3-12-47-1_tn_617',\n",
       "       'tpm0_R3-12-47-1_tm_210_R3-12-47-1_tn_618',\n",
       "       'tpm0_R3-12-47-1_tm_211_R3-12-47-1_tn_619',\n",
       "       'tpm0_R3-12-47-1_tm_212_R3-12-47-1_tn_620',\n",
       "       'tpm0_R3-12-47-1_tm_217_R3-12-47-1_tn_625',\n",
       "       'tpm0_R3-12-47-1_tm_218_R3-12-47-1_tn_626',\n",
       "       'tpm0_R3-12-47-1_tm_219_R3-12-47-1_tn_627',\n",
       "       'tpm0_R3-12-47-1_tm_220_R3-12-47-1_tn_628',\n",
       "       'tpm0_R3-12-47-1_tm_225_R3-12-47-1_tn_633',\n",
       "       'tpm0_R3-12-47-1_tm_226_R3-12-47-1_tn_634',\n",
       "       'tpm0_R3-12-47-1_tm_227_R3-12-47-1_tn_635',\n",
       "       'tpm0_R3-12-47-1_tm_228_R3-12-47-1_tn_636',\n",
       "       'tpm0_R3-12-47-1_tm_229_R3-12-47-1_tn_637',\n",
       "       'tpm0_R3-12-47-1_tm_230_R3-12-47-1_tn_638',\n",
       "       'tpm0_R3-12-47-1_tm_231_R3-12-47-1_tn_639',\n",
       "       'tpm0_R3-12-47-1_tm_232_R3-12-47-1_tn_640',\n",
       "       'tpm0_R3-12-47-1_tm_233_R3-12-47-1_tn_641',\n",
       "       'tpm0_R3-12-47-1_tm_234_R3-12-47-1_tn_642',\n",
       "       'tpm0_R3-12-47-1_tm_235_R3-12-47-1_tn_643',\n",
       "       'tpm0_R3-12-47-1_tm_236_R3-12-47-1_tn_644',\n",
       "       'tpm0_R3-12-47-1_tm_237_R3-12-47-1_tn_645',\n",
       "       'tpm1_R3-12-47-1_tm_237_R3-12-47-1_tn_645',\n",
       "       'tpm2_R3-12-47-1_tm_237_R3-12-47-1_tn_645',\n",
       "       'tpm0_R3-12-47-1_tm_238_R3-12-47-1_tn_646',\n",
       "       'tpm1_R3-12-47-1_tm_238_R3-12-47-1_tn_646',\n",
       "       'tpm2_R3-12-47-1_tm_238_R3-12-47-1_tn_646',\n",
       "       'tpm0_R3-12-47-1_tm_239_R3-12-47-1_tn_647',\n",
       "       'tpm1_R3-12-47-1_tm_239_R3-12-47-1_tn_647',\n",
       "       'tpm2_R3-12-47-1_tm_239_R3-12-47-1_tn_647',\n",
       "       'tpm0_R3-12-47-1_tm_240_R3-12-47-1_tn_648',\n",
       "       'tpm0_R3-12-47-1_tm_241_R3-12-47-1_tn_649',\n",
       "       'tpm0_R3-12-47-1_tm_242_R3-12-47-1_tn_650',\n",
       "       'tpm0_R3-12-47-1_tm_243_R3-12-47-1_tn_651',\n",
       "       'tpm0_R3-12-47-1_tm_244_R3-12-47-1_tn_652',\n",
       "       'tpm0_R3-12-47-1_tm_245_R3-12-47-1_tn_653',\n",
       "       'tpm0_R3-12-47-1_tm_246_R3-12-47-1_tn_654',\n",
       "       'tpm0_R3-12-47-1_tm_247_R3-12-47-1_tn_655',\n",
       "       'tpm0_R3-12-47-1_tm_250_R3-12-47-1_tn_658',\n",
       "       'tpm1_R3-12-47-1_tm_250_R3-12-47-1_tn_658',\n",
       "       'tpm0_R3-12-47-1_tm_251_R3-12-47-1_tn_659',\n",
       "       'tpm1_R3-12-47-1_tm_251_R3-12-47-1_tn_659',\n",
       "       'tpm0_R3-12-47-1_tm_252_R3-12-47-1_tn_660',\n",
       "       'tpm0_R3-12-47-1_tm_253_R3-12-47-1_tn_661',\n",
       "       'tpm0_R3-12-47-1_tm_254_R3-12-47-1_tn_662',\n",
       "       'tpm0_R3-12-47-1_tm_255_R3-12-47-1_tn_663',\n",
       "       'tpm0_R3-12-47-1_tm_256_R3-12-47-1_tn_664',\n",
       "       'tpm0_R3-12-47-1_tm_259_R3-12-47-1_tn_667',\n",
       "       'tpm0_R3-12-47-1_tm_262_R3-12-47-1_tn_670',\n",
       "       'tpm1_R3-12-47-1_tm_262_R3-12-47-1_tn_670',\n",
       "       'tpm0_R3-12-47-1_tm_263_R3-12-47-1_tn_671',\n",
       "       'tpm1_R3-12-47-1_tm_263_R3-12-47-1_tn_671',\n",
       "       'tpm0_R3-12-47-1_tm_265_R3-12-47-1_tn_673',\n",
       "       'tpm1_R3-12-47-1_tm_265_R3-12-47-1_tn_673',\n",
       "       'tpm0_R3-12-47-1_tm_266_R3-12-47-1_tn_674',\n",
       "       'tpm1_R3-12-47-1_tm_266_R3-12-47-1_tn_674',\n",
       "       'tpm2_R3-12-47-1_tm_266_R3-12-47-1_tn_674',\n",
       "       'tpm0_R3-12-47-1_tm_267_R3-12-47-1_tn_675',\n",
       "       'tpm0_R3-12-47-1_tm_268_R3-12-47-1_tn_676',\n",
       "       'tpm0_R3-12-47-1_tm_272_R3-12-47-1_tn_680',\n",
       "       'tpm0_R3-12-47-1_tm_276_R3-12-47-1_tn_684',\n",
       "       'tpm0_R3-12-47-1_tm_277_R3-12-47-1_tn_685',\n",
       "       'tpm0_R3-12-47-1_tm_278_R3-12-47-1_tn_686',\n",
       "       'tpm0_R3-12-47-1_tm_281_R3-12-47-1_tn_689',\n",
       "       'tpm0_R3-12-47-1_tm_282_R3-12-47-1_tn_690',\n",
       "       'tpm0_R3-12-47-1_tm_283_R3-12-47-1_tn_691',\n",
       "       'tpm0_R3-12-47-1_tm_284_R3-12-47-1_tn_692',\n",
       "       'tpm0_R3-12-47-1_tm_285_R3-12-47-1_tn_693',\n",
       "       'tpm0_R3-12-47-1_tm_286_R3-12-47-1_tn_694',\n",
       "       'tpm0_R3-12-47-1_tm_287_R3-12-47-1_tn_695',\n",
       "       'tpm1_R3-12-47-1_tm_287_R3-12-47-1_tn_695',\n",
       "       'tpm0_R3-12-47-1_tm_288_R3-12-47-1_tn_696',\n",
       "       'tpm1_R3-12-47-1_tm_288_R3-12-47-1_tn_696',\n",
       "       'tpm0_R3-12-47-1_tm_289_R3-12-47-1_tn_697',\n",
       "       'tpm1_R3-12-47-1_tm_289_R3-12-47-1_tn_697',\n",
       "       'tpm0_R3-12-47-1_tm_290_R3-12-47-1_tn_698',\n",
       "       'tpm0_R3-12-47-1_tm_291_R3-12-47-1_tn_699',\n",
       "       'tpm0_R3-12-47-1_tm_292_R3-12-47-1_tn_700',\n",
       "       'tpm0_R3-12-47-1_tm_293_R3-12-47-1_tn_701',\n",
       "       'tpm0_R3-12-47-1_tm_294_R3-12-47-1_tn_702',\n",
       "       'tpm0_R3-12-47-1_tm_295_R3-12-47-1_tn_703',\n",
       "       'tpm0_R3-12-47-1_tm_296_R3-12-47-1_tn_704',\n",
       "       'tpm0_R3-12-47-1_tm_297_R3-12-47-1_tn_705',\n",
       "       'tpm0_R3-12-47-1_tm_298_R3-12-47-1_tn_706',\n",
       "       'tpm0_R3-12-47-1_tm_305_R3-12-47-1_tn_713',\n",
       "       'tpm0_R3-12-47-1_tm_306_R3-12-47-1_tn_714',\n",
       "       'tpm0_R3-12-47-1_tm_309_R3-12-47-1_tn_717',\n",
       "       'tpm0_R3-12-47-1_tm_310_R3-12-47-1_tn_718',\n",
       "       'tpm0_R3-12-47-1_tm_314_R3-12-47-1_tn_722',\n",
       "       'tpm0_R3-12-47-1_tm_315_R3-12-47-1_tn_723',\n",
       "       'tpm0_R3-12-47-1_tm_316_R3-12-47-1_tn_724',\n",
       "       'tpm0_R3-12-47-1_tm_317_R3-12-47-1_tn_725',\n",
       "       'tpm0_R3-12-47-1_tm_319_R3-12-47-1_tn_727',\n",
       "       'tpm0_R3-12-47-1_tm_320_R3-12-47-1_tn_728',\n",
       "       'tpm0_R3-12-47-1_tm_321_R3-12-47-1_tn_729',\n",
       "       'tpm0_R3-12-47-1_tm_322_R3-12-47-1_tn_730',\n",
       "       'tpm0_R3-12-47-1_tm_323_R3-12-47-1_tn_731',\n",
       "       'tpm0_R3-12-47-1_tm_324_R3-12-47-1_tn_732',\n",
       "       'tpm0_R3-12-47-1_tm_326_R3-12-47-1_tn_734',\n",
       "       'tpm0_R3-12-47-1_tm_327_R3-12-47-1_tn_735',\n",
       "       'tpm0_R3-12-47-1_tm_328_R3-12-47-1_tn_736',\n",
       "       'tpm0_R3-12-47-1_tm_329_R3-12-47-1_tn_737',\n",
       "       'tpm0_R3-12-47-1_tm_330_R3-12-47-1_tn_738',\n",
       "       'tpm0_R3-12-47-1_tm_331_R3-12-47-1_tn_739',\n",
       "       'tpm0_R3-12-47-1_tm_332_R3-12-47-1_tn_740',\n",
       "       'tpm0_R3-12-47-1_tm_340_R3-12-47-1_tn_748',\n",
       "       'tpm1_R3-12-47-1_tm_340_R3-12-47-1_tn_748',\n",
       "       'tpm0_R3-12-47-1_tm_341_R3-12-47-1_tn_749',\n",
       "       'tpm1_R3-12-47-1_tm_341_R3-12-47-1_tn_749',\n",
       "       'tpm0_R3-12-47-1_tm_342_R3-12-47-1_tn_750',\n",
       "       'tpm1_R3-12-47-1_tm_342_R3-12-47-1_tn_750',\n",
       "       'tpm0_R3-12-47-1_tm_345_R3-12-47-1_tn_753',\n",
       "       'tpm0_R3-12-47-1_tm_346_R3-12-47-1_tn_754',\n",
       "       'tpm0_R3-12-47-1_tm_349_R3-12-47-1_tn_757',\n",
       "       'tpm0_R3-12-47-1_tm_350_R3-12-47-1_tn_758',\n",
       "       'tpm0_R3-12-47-1_tm_351_R3-12-47-1_tn_759',\n",
       "       'tpm0_R3-12-47-1_tm_352_R3-12-47-1_tn_760',\n",
       "       'tpm1_R3-12-47-1_tm_352_R3-12-47-1_tn_760',\n",
       "       'tpm0_R3-12-47-1_tm_353_R3-12-47-1_tn_761',\n",
       "       'tpm1_R3-12-47-1_tm_353_R3-12-47-1_tn_761',\n",
       "       'tpm0_R3-12-47-1_tm_354_R3-12-47-1_tn_762',\n",
       "       'tpm0_R3-12-47-1_tm_355_R3-12-47-1_tn_763',\n",
       "       'tpm0_R3-12-47-1_tm_356_R3-12-47-1_tn_764',\n",
       "       'tpm0_R3-12-47-1_tm_357_R3-12-47-1_tn_765',\n",
       "       'tpm0_R3-12-47-1_tm_358_R3-12-47-1_tn_766',\n",
       "       'tpm0_R3-12-47-1_tm_359_R3-12-47-1_tn_767',\n",
       "       'tpm0_R3-12-47-1_tm_360_R3-12-47-1_tn_768',\n",
       "       'tpm0_R3-12-47-1_tm_362_R3-12-47-1_tn_770',\n",
       "       'tpm0_R3-12-47-1_tm_363_R3-12-47-1_tn_771',\n",
       "       'tpm0_R3-12-47-1_tm_364_R3-12-47-1_tn_772',\n",
       "       'tpm0_R3-12-47-1_tm_367_R3-12-47-1_tn_775',\n",
       "       'tpm0_R3-12-47-1_tm_368_R3-12-47-1_tn_776',\n",
       "       'tpm0_R3-12-47-1_tm_369_R3-12-47-1_tn_777',\n",
       "       'tpm0_R3-12-47-1_tm_370_R3-12-47-1_tn_778',\n",
       "       'tpm0_R3-12-47-1_tm_371_R3-12-47-1_tn_779',\n",
       "       'tpm0_R3-12-47-1_tm_372_R3-12-47-1_tn_780',\n",
       "       'tpm0_R3-12-47-1_tm_373_R3-12-47-1_tn_781',\n",
       "       'tpm0_R3-12-47-1_tm_374_R3-12-47-1_tn_782',\n",
       "       'tpm1_R3-12-47-1_tm_374_R3-12-47-1_tn_782',\n",
       "       'tpm0_R3-12-47-1_tm_375_R3-12-47-1_tn_783',\n",
       "       'tpm1_R3-12-47-1_tm_375_R3-12-47-1_tn_783',\n",
       "       'tpm0_R3-12-47-1_tm_376_R3-12-47-1_tn_784',\n",
       "       'tpm1_R3-12-47-1_tm_376_R3-12-47-1_tn_784',\n",
       "       'tpm0_R3-12-47-1_tm_377_R3-12-47-1_tn_785',\n",
       "       'tpm1_R3-12-47-1_tm_377_R3-12-47-1_tn_785',\n",
       "       'tpm2_R3-12-47-1_tm_377_R3-12-47-1_tn_785',\n",
       "       'tpm0_R3-12-47-1_tm_378_R3-12-47-1_tn_786',\n",
       "       'tpm1_R3-12-47-1_tm_378_R3-12-47-1_tn_786',\n",
       "       'tpm2_R3-12-47-1_tm_378_R3-12-47-1_tn_786',\n",
       "       'tpm0_R3-12-47-1_tm_379_R3-12-47-1_tn_787',\n",
       "       'tpm1_R3-12-47-1_tm_379_R3-12-47-1_tn_787',\n",
       "       'tpm2_R3-12-47-1_tm_379_R3-12-47-1_tn_787',\n",
       "       'tpm0_R3-12-47-1_tm_382_R3-12-47-1_tn_790',\n",
       "       'tpm1_R3-12-47-1_tm_382_R3-12-47-1_tn_790',\n",
       "       'tpm0_R3-12-47-1_tm_383_R3-12-47-1_tn_791',\n",
       "       'tpm1_R3-12-47-1_tm_383_R3-12-47-1_tn_791',\n",
       "       'tpm0_R3-12-47-1_tm_384_R3-12-47-1_tn_792',\n",
       "       'tpm1_R3-12-47-1_tm_384_R3-12-47-1_tn_792',\n",
       "       'tpm0_R3-12-47-1_tm_385_R3-12-47-1_tn_793',\n",
       "       'tpm1_R3-12-47-1_tm_385_R3-12-47-1_tn_793',\n",
       "       'tpm0_R3-12-47-1_tm_386_R3-12-47-1_tn_794',\n",
       "       'tpm1_R3-12-47-1_tm_386_R3-12-47-1_tn_794',\n",
       "       'tpm0_R3-12-47-1_tm_387_R3-12-47-1_tn_795',\n",
       "       'tpm1_R3-12-47-1_tm_387_R3-12-47-1_tn_795',\n",
       "       'tpm0_R3-12-47-1_tm_388_R3-12-47-1_tn_796',\n",
       "       'tpm1_R3-12-47-1_tm_388_R3-12-47-1_tn_796',\n",
       "       'tpm2_R3-12-47-1_tm_388_R3-12-47-1_tn_796',\n",
       "       'tpm3_R3-12-47-1_tm_388_R3-12-47-1_tn_796',\n",
       "       'tpm4_R3-12-47-1_tm_388_R3-12-47-1_tn_796',\n",
       "       'tpm5_R3-12-47-1_tm_388_R3-12-47-1_tn_796',\n",
       "       'tpm0_R3-12-47-1_tm_389_R3-12-47-1_tn_797',\n",
       "       'tpm1_R3-12-47-1_tm_389_R3-12-47-1_tn_797',\n",
       "       'tpm2_R3-12-47-1_tm_389_R3-12-47-1_tn_797',\n",
       "       'tpm3_R3-12-47-1_tm_389_R3-12-47-1_tn_797',\n",
       "       'tpm4_R3-12-47-1_tm_389_R3-12-47-1_tn_797',\n",
       "       'tpm5_R3-12-47-1_tm_389_R3-12-47-1_tn_797',\n",
       "       'tpm0_R3-12-47-1_tm_390_R3-12-47-1_tn_798',\n",
       "       'tpm1_R3-12-47-1_tm_390_R3-12-47-1_tn_798',\n",
       "       'tpm2_R3-12-47-1_tm_390_R3-12-47-1_tn_798',\n",
       "       'tpm3_R3-12-47-1_tm_390_R3-12-47-1_tn_798',\n",
       "       'tpm4_R3-12-47-1_tm_390_R3-12-47-1_tn_798',\n",
       "       'tpm5_R3-12-47-1_tm_390_R3-12-47-1_tn_798',\n",
       "       'tpm0_R3-12-47-1_tm_391_R3-12-47-1_tn_799',\n",
       "       'tpm1_R3-12-47-1_tm_391_R3-12-47-1_tn_799',\n",
       "       'tpm2_R3-12-47-1_tm_391_R3-12-47-1_tn_799',\n",
       "       'tpm3_R3-12-47-1_tm_391_R3-12-47-1_tn_799',\n",
       "       'tpm4_R3-12-47-1_tm_391_R3-12-47-1_tn_799',\n",
       "       'tpm5_R3-12-47-1_tm_391_R3-12-47-1_tn_799',\n",
       "       'tpm0_R3-12-47-1_tm_392_R3-12-47-1_tn_800',\n",
       "       'tpm1_R3-12-47-1_tm_392_R3-12-47-1_tn_800',\n",
       "       'tpm2_R3-12-47-1_tm_392_R3-12-47-1_tn_800',\n",
       "       'tpm3_R3-12-47-1_tm_392_R3-12-47-1_tn_800',\n",
       "       'tpm4_R3-12-47-1_tm_392_R3-12-47-1_tn_800',\n",
       "       'tpm5_R3-12-47-1_tm_392_R3-12-47-1_tn_800',\n",
       "       'tpm0_R3-12-47-1_tm_393_R3-12-47-1_tn_801',\n",
       "       'tpm1_R3-12-47-1_tm_393_R3-12-47-1_tn_801',\n",
       "       'tpm2_R3-12-47-1_tm_393_R3-12-47-1_tn_801',\n",
       "       'tpm3_R3-12-47-1_tm_393_R3-12-47-1_tn_801',\n",
       "       'tpm4_R3-12-47-1_tm_393_R3-12-47-1_tn_801',\n",
       "       'tpm5_R3-12-47-1_tm_393_R3-12-47-1_tn_801',\n",
       "       'tpm0_R3-12-47-1_tm_394_R3-12-47-1_tn_802',\n",
       "       'tpm0_R3-12-47-1_tm_395_R3-12-47-1_tn_803',\n",
       "       'tpm0_R3-12-47-1_tm_396_R3-12-47-1_tn_804',\n",
       "       'tpm0_R3-12-47-1_tm_397_R3-12-47-1_tn_805',\n",
       "       'tpm1_R3-12-47-1_tm_397_R3-12-47-1_tn_805',\n",
       "       'tpm0_R3-12-47-1_tm_398_R3-12-47-1_tn_806',\n",
       "       'tpm1_R3-12-47-1_tm_398_R3-12-47-1_tn_806',\n",
       "       'tpm0_R3-12-47-1_tm_399_R3-12-47-1_tn_807',\n",
       "       'tpm1_R3-12-47-1_tm_399_R3-12-47-1_tn_807',\n",
       "       'tpm0_R3-12-47-1_tm_400_R3-12-47-1_tn_808',\n",
       "       'tpm0_R3-12-47-1_tm_401_R3-12-47-1_tn_809',\n",
       "       'tpm0_R3-12-47-1_tm_402_R3-12-47-1_tn_810'], \n",
       "      dtype='<U40')"
      ]
     },
     "execution_count": 319,
     "metadata": {},
     "output_type": "execute_result"
    }
   ],
   "source": [
    "realVoltage[0,:]"
   ]
  },
  {
   "cell_type": "code",
   "execution_count": 341,
   "metadata": {},
   "outputs": [
    {
     "ename": "AttributeError",
     "evalue": "'numpy.ndarray' object has no attribute 'append'",
     "output_type": "error",
     "traceback": [
      "\u001b[1;31m---------------------------------------------------------------------------\u001b[0m",
      "\u001b[1;31mAttributeError\u001b[0m                            Traceback (most recent call last)",
      "\u001b[1;32m<ipython-input-341-a216d4998a74>\u001b[0m in \u001b[0;36m<module>\u001b[1;34m()\u001b[0m\n\u001b[0;32m      1\u001b[0m \u001b[0mnewarray3\u001b[0m\u001b[1;33m=\u001b[0m\u001b[0mrealVoltage\u001b[0m\u001b[1;33m[\u001b[0m\u001b[1;36m0\u001b[0m\u001b[1;33m,\u001b[0m\u001b[1;33m:\u001b[0m\u001b[1;33m]\u001b[0m\u001b[1;33m\u001b[0m\u001b[0m\n\u001b[1;32m----> 2\u001b[1;33m \u001b[0mnewarray3\u001b[0m\u001b[1;33m.\u001b[0m\u001b[0mappend\u001b[0m\u001b[1;33m(\u001b[0m\u001b[0mrealVoltage\u001b[0m\u001b[1;33m[\u001b[0m\u001b[0mind\u001b[0m\u001b[1;33m,\u001b[0m\u001b[1;33m:\u001b[0m\u001b[1;33m]\u001b[0m\u001b[1;33m)\u001b[0m\u001b[1;33m\u001b[0m\u001b[0m\n\u001b[0m",
      "\u001b[1;31mAttributeError\u001b[0m: 'numpy.ndarray' object has no attribute 'append'"
     ]
    }
   ],
   "source": [
    "newarray3=realVoltage[0,:]\n",
    "newarray3.append(realVoltage[ind,:])"
   ]
  },
  {
   "cell_type": "code",
   "execution_count": 339,
   "metadata": {},
   "outputs": [
    {
     "data": {
      "text/plain": [
       "array([['2013-07-01T00:00:00', '0.000000', '0.000000', ..., '0.000000',\n",
       "        '0.000000', '0.000000'],\n",
       "       ['2013-07-01T00:30:00', '216.119597', '-0.854444', ...,\n",
       "        '216.239279', '-0.552700', '-216.441451'],\n",
       "       ['2013-07-01T00:45:00', '216.161944', '-0.885437', ...,\n",
       "        '216.283614', '-0.569311', '-216.301941'],\n",
       "       ['2013-07-01T01:00:00', '215.726060', '-0.843326', ...,\n",
       "        '215.840533', '-0.547461', '-216.306010'],\n",
       "       ['2013-07-01T01:15:00', '215.157856', '-0.856321', ...,\n",
       "        '215.280714', '-0.556914', '-216.380446']], \n",
       "      dtype='<U40')"
      ]
     },
     "execution_count": 339,
     "metadata": {},
     "output_type": "execute_result"
    }
   ],
   "source": [
    "newarray[1:,:]"
   ]
  },
  {
   "cell_type": "code",
   "execution_count": null,
   "metadata": {
    "collapsed": true
   },
   "outputs": [],
   "source": []
  }
 ],
 "metadata": {
  "kernelspec": {
   "display_name": "Python 3",
   "language": "python",
   "name": "python3"
  },
  "language_info": {
   "codemirror_mode": {
    "name": "ipython",
    "version": 3
   },
   "file_extension": ".py",
   "mimetype": "text/x-python",
   "name": "python",
   "nbconvert_exporter": "python",
   "pygments_lexer": "ipython3",
   "version": "3.6.1"
  }
 },
 "nbformat": 4,
 "nbformat_minor": 2
}
