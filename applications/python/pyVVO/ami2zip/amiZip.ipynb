{
 "cells": [
  {
   "cell_type": "code",
   "execution_count": 26,
   "metadata": {
    "collapsed": true
   },
   "outputs": [],
   "source": [
    "import pandas as pd\n",
    "import numpy as np\n",
    "\n",
    "reactivePower=pd.read_csv('R3_12_47_1_AMI_residential_phase12_reactive_power.csv',skiprows=8)\n",
    "realPower=pd.read_csv('R3_12_47_1_AMI_residential_phase12_real_power.csv',skiprows=8)\n",
    "\n",
    "a=realPower.shape\n",
    "a\n",
    "type(a)\n",
    "a[0]\n",
    "\n",
    "realPower.head(5)\n",
    "\n",
    "a=realPower.index\n",
    "\n",
    "aa=realPower.ix[:,0:1]\n",
    "\n",
    "type(aa)\n",
    "\n",
    "type(aa[:1])"
   ]
  },
  {
   "cell_type": "markdown",
   "metadata": {},
   "source": [
    "Create 15 minute interval of datetime array to retrive from the original data if it has minute by minute interval data"
   ]
  },
  {
   "cell_type": "code",
   "execution_count": 31,
   "metadata": {},
   "outputs": [],
   "source": [
    "def dateArray15mins(data_array):\n",
    "    from datetime import datetime, timedelta\n",
    "\n",
    "    def datetime_range(start, end, delta):\n",
    "        current = start\n",
    "        while current < end:\n",
    "            yield current\n",
    "            current += delta\n",
    "\n",
    "    dts = [dt.strftime('%Y-%m-%dT%H:%M:%S') for dt in \n",
    "           datetime_range((np.datetime64(data_array[1,0]).astype(datetime)),\n",
    "                          (np.datetime64(data_array[len(data_array)-1,0]).astype(datetime)),\n",
    "                          timedelta(minutes=15))]\n",
    "    return dts\n",
    "\n",
    "#d=dts[1]\n",
    "#np.datetime64(d)"
   ]
  },
  {
   "cell_type": "code",
   "execution_count": 32,
   "metadata": {
    "collapsed": true
   },
   "outputs": [],
   "source": [
    "def ind15mins(data_array):\n",
    "    ind=[0]\n",
    "    ind.extend((np.arange(1,len(data_array),15)).tolist())\n",
    "    new_array=data_array[ind,:]\n",
    "    return new_array"
   ]
  },
  {
   "cell_type": "code",
   "execution_count": 35,
   "metadata": {},
   "outputs": [],
   "source": [
    "newReactiveVoltage=ind15mins(reactiveVoltage)\n",
    "newRealVoltage=ind15mins(realVoltage)\n",
    "\n",
    "#d=dateArray15mins(realVdataArray)"
   ]
  },
  {
   "cell_type": "code",
   "execution_count": null,
   "metadata": {
    "collapsed": true
   },
   "outputs": [],
   "source": []
  },
  {
   "cell_type": "code",
   "execution_count": null,
   "metadata": {
    "collapsed": true
   },
   "outputs": [],
   "source": []
  },
  {
   "cell_type": "code",
   "execution_count": null,
   "metadata": {
    "collapsed": true
   },
   "outputs": [],
   "source": []
  },
  {
   "cell_type": "code",
   "execution_count": 36,
   "metadata": {
    "collapsed": true
   },
   "outputs": [],
   "source": [
    "import csv\n",
    "import numpy as np\n",
    "import pandas as pd"
   ]
  },
  {
   "cell_type": "markdown",
   "metadata": {},
   "source": [
    "Function to convert CSV files to pandas DataFrame. Discarding the description sentences on top of each file"
   ]
  },
  {
   "cell_type": "code",
   "execution_count": 29,
   "metadata": {
    "collapsed": true
   },
   "outputs": [],
   "source": [
    "def csv2array(fileName):\n",
    "    newdata=[]\n",
    "    with open(fileName,'r') as fileData:\n",
    "        rowData = csv.reader(fileData, \n",
    "                           delimiter = ',', \n",
    "                           quotechar = '\"')\n",
    "        for data in rowData:\n",
    "            if len(data)>2:\n",
    "                newdata.append(data)\n",
    "    data_array = np.asarray(newdata)\n",
    "    return convertDateTime(data_array)"
   ]
  },
  {
   "cell_type": "markdown",
   "metadata": {},
   "source": [
    "Fist Column of the array is datetime with 'PST' extension. This function strips timezone and converts it into numpy datetime64 format"
   ]
  },
  {
   "cell_type": "code",
   "execution_count": 163,
   "metadata": {},
   "outputs": [],
   "source": [
    "def convertDateTime(data_array):\n",
    "    firstCol=data_array[1:,0]\n",
    "    stripFirstCol=[ele.rstrip(' PST') for ele in firstCol]\n",
    "    dateTimeFirstCol=[np.datetime64(ele) for ele in stripFirstCol]\n",
    "    data_array[1:,0]=dateTimeFirstCol\n",
    "    data_frame=pd.DataFrame(data_array.reshape(len(data_array),-1))\n",
    "    \n",
    "    data_frame.index=data_frame[0]\n",
    "    data_frame=data_frame.drop(data_frame.columns[0],axis=1)\n",
    "\n",
    "\n",
    "    data_frame.columns=data_frame.iloc[0]\n",
    "    data_frame=data_frame.drop(data_frame.index[0])\n",
    "    return data_frame"
   ]
  },
  {
   "cell_type": "code",
   "execution_count": null,
   "metadata": {
    "collapsed": true
   },
   "outputs": [],
   "source": []
  },
  {
   "cell_type": "code",
   "execution_count": 164,
   "metadata": {
    "collapsed": true
   },
   "outputs": [],
   "source": [
    "reactivePfile='R3_12_47_1_AMI_residential_phase12_reactive_power.csv'\n",
    "realPfile='R3_12_47_1_AMI_residential_phase12_reactive_power.csv'\n",
    "reactiveVfile='R3_12_47_1_AMI_residential_phase12_reactive_voltage.csv'\n",
    "realVfile='R3_12_47_1_AMI_residential_phase12_real_voltage.csv'"
   ]
  },
  {
   "cell_type": "code",
   "execution_count": 165,
   "metadata": {},
   "outputs": [],
   "source": [
    "reactivePower=csv2array(reactivePfile)\n",
    "realPower=csv2array(realPfile)\n",
    "\n",
    "reactiveVoltage=csv2array(reactiveVfile)\n",
    "realVoltage=csv2array(realVfile)"
   ]
  },
  {
   "cell_type": "code",
   "execution_count": null,
   "metadata": {
    "collapsed": true
   },
   "outputs": [],
   "source": []
  },
  {
   "cell_type": "code",
   "execution_count": null,
   "metadata": {
    "collapsed": true
   },
   "outputs": [],
   "source": []
  },
  {
   "cell_type": "code",
   "execution_count": null,
   "metadata": {
    "collapsed": true
   },
   "outputs": [],
   "source": []
  }
 ],
 "metadata": {
  "kernelspec": {
   "display_name": "Python 3",
   "language": "python",
   "name": "python3"
  },
  "language_info": {
   "codemirror_mode": {
    "name": "ipython",
    "version": 3
   },
   "file_extension": ".py",
   "mimetype": "text/x-python",
   "name": "python",
   "nbconvert_exporter": "python",
   "pygments_lexer": "ipython3",
   "version": "3.6.1"
  }
 },
 "nbformat": 4,
 "nbformat_minor": 2
}
