{
 "cells": [
  {
   "cell_type": "code",
   "execution_count": 3,
   "metadata": {
    "collapsed": true
   },
   "outputs": [],
   "source": [
    "#realPower['2013-07-01 00']"
   ]
  },
  {
   "cell_type": "code",
   "execution_count": 26,
   "metadata": {
    "collapsed": true
   },
   "outputs": [],
   "source": [
    "import pandas as pd\n",
    "import numpy as np\n",
    "\n",
    "reactivePower=pd.read_csv('R3_12_47_1_AMI_residential_phase12_reactive_power.csv',skiprows=8)\n",
    "realPower=pd.read_csv('R3_12_47_1_AMI_residential_phase12_real_power.csv',skiprows=8)\n",
    "\n",
    "a=realPower.shape\n",
    "a\n",
    "type(a)\n",
    "a[0]\n",
    "\n",
    "realPower.head(5)\n",
    "\n",
    "a=realPower.index\n",
    "\n",
    "aa=realPower.ix[:,0:1]\n",
    "\n",
    "type(aa)\n",
    "\n",
    "type(aa[:1])"
   ]
  },
  {
   "cell_type": "markdown",
   "metadata": {},
   "source": [
    "Create 15 minute interval of datetime array to retrive from the original data if it has minute by minute interval data"
   ]
  },
  {
   "cell_type": "code",
   "execution_count": 31,
   "metadata": {
    "collapsed": true
   },
   "outputs": [],
   "source": [
    "def dateArray15mins(data_array):\n",
    "    from datetime import datetime, timedelta\n",
    "\n",
    "    def datetime_range(start, end, delta):\n",
    "        current = start\n",
    "        while current < end:\n",
    "            yield current\n",
    "            current += delta\n",
    "\n",
    "    dts = [dt.strftime('%Y-%m-%dT%H:%M:%S') for dt in \n",
    "           datetime_range((np.datetime64(data_array[1,0]).astype(datetime)),\n",
    "                          (np.datetime64(data_array[len(data_array)-1,0]).astype(datetime)),\n",
    "                          timedelta(minutes=15))]\n",
    "    return dts\n",
    "\n",
    "#d=dts[1]\n",
    "#np.datetime64(d)"
   ]
  },
  {
   "cell_type": "code",
   "execution_count": 32,
   "metadata": {
    "collapsed": true
   },
   "outputs": [],
   "source": [
    "def ind15mins(data_array):\n",
    "    ind=[0]\n",
    "    ind.extend((np.arange(1,len(data_array),15)).tolist())\n",
    "    new_array=data_array[ind,:]\n",
    "    return new_array"
   ]
  },
  {
   "cell_type": "code",
   "execution_count": 35,
   "metadata": {
    "collapsed": true
   },
   "outputs": [],
   "source": [
    "newReactiveVoltage=ind15mins(reactiveVoltage)\n",
    "newRealVoltage=ind15mins(realVoltage)\n",
    "\n",
    "#d=dateArray15mins(realVdataArray)"
   ]
  },
  {
   "cell_type": "code",
   "execution_count": 174,
   "metadata": {
    "collapsed": true
   },
   "outputs": [],
   "source": [
    "rT=pd.DataFrame.transpose(reactivePower)\n",
    "aa=rT.unstack()"
   ]
  },
  {
   "cell_type": "code",
   "execution_count": 2,
   "metadata": {
    "collapsed": true
   },
   "outputs": [],
   "source": [
    "#realPower.resample('30T').sum()"
   ]
  },
  {
   "cell_type": "code",
   "execution_count": 1,
   "metadata": {
    "collapsed": true
   },
   "outputs": [],
   "source": [
    "#realPower.resample('30T').mean()#,how='mean')"
   ]
  },
  {
   "cell_type": "code",
   "execution_count": null,
   "metadata": {
    "collapsed": true
   },
   "outputs": [],
   "source": [
    "def fun(x, t, y):\n",
    "    return x[0] * np.exp(-x[1] * t) * np.sin(x[2] * t) - y"
   ]
  },
  {
   "cell_type": "code",
   "execution_count": 32,
   "metadata": {},
   "outputs": [
    {
     "name": "stdout",
     "output_type": "stream",
     "text": [
      "1356999300000000000\n"
     ]
    },
    {
     "ename": "ValueError",
     "evalue": "year 371534 is out of range",
     "output_type": "error",
     "traceback": [
      "\u001b[1;31m---------------------------------------------------------------------------\u001b[0m",
      "\u001b[1;31mValueError\u001b[0m                                Traceback (most recent call last)",
      "\u001b[1;32m<ipython-input-32-b5eebf95ab09>\u001b[0m in \u001b[0;36m<module>\u001b[1;34m()\u001b[0m\n\u001b[0;32m      5\u001b[0m \u001b[0mprint\u001b[0m\u001b[1;33m(\u001b[0m\u001b[0maa\u001b[0m\u001b[1;33m)\u001b[0m\u001b[1;33m\u001b[0m\u001b[0m\n\u001b[0;32m      6\u001b[0m \u001b[0mbb\u001b[0m\u001b[1;33m=\u001b[0m\u001b[1;36m135699930\u001b[0m\u001b[1;33m\u001b[0m\u001b[0m\n\u001b[1;32m----> 7\u001b[1;33m \u001b[0mdate\u001b[0m\u001b[1;33m.\u001b[0m\u001b[0mfromordinal\u001b[0m\u001b[1;33m(\u001b[0m\u001b[0mbb\u001b[0m\u001b[1;33m)\u001b[0m\u001b[1;33m\u001b[0m\u001b[0m\n\u001b[0m\u001b[0;32m      8\u001b[0m \u001b[1;31m#dat\u001b[0m\u001b[1;33m\u001b[0m\u001b[1;33m\u001b[0m\u001b[0m\n",
      "\u001b[1;31mValueError\u001b[0m: year 371534 is out of range"
     ]
    }
   ],
   "source": [
    "aa=realPower.index[0].value\n",
    "#datetime.fromtimestamp(float(aa)).isoformat()\n",
    "#dat = dt.datetime.fromtimestamp(aa)#, timezone.utc)# / 1e3)\n",
    "#type(aa)\n",
    "print(aa)\n",
    "bb=135699930\n",
    "date.fromordinal(bb)\n",
    "#dat"
   ]
  },
  {
   "cell_type": "code",
   "execution_count": 61,
   "metadata": {},
   "outputs": [
    {
     "ename": "OSError",
     "evalue": "[Errno 22] Invalid argument",
     "output_type": "error",
     "traceback": [
      "\u001b[1;31m---------------------------------------------------------------------------\u001b[0m",
      "\u001b[1;31mOSError\u001b[0m                                   Traceback (most recent call last)",
      "\u001b[1;32m<ipython-input-61-be248a944771>\u001b[0m in \u001b[0;36m<module>\u001b[1;34m()\u001b[0m\n\u001b[1;32m----> 1\u001b[1;33m \u001b[0mdate\u001b[0m \u001b[1;33m=\u001b[0m \u001b[0mdatetime\u001b[0m\u001b[1;33m.\u001b[0m\u001b[0mfromtimestamp\u001b[0m\u001b[1;33m(\u001b[0m\u001b[0maa\u001b[0m \u001b[1;33m/\u001b[0m \u001b[1;36m1e3\u001b[0m\u001b[1;33m)\u001b[0m\u001b[1;33m\u001b[0m\u001b[0m\n\u001b[0m",
      "\u001b[1;31mOSError\u001b[0m: [Errno 22] Invalid argument"
     ]
    }
   ],
   "source": [
    "date = datetime.fromtimestamp(aa / 1e3)"
   ]
  },
  {
   "cell_type": "code",
   "execution_count": null,
   "metadata": {
    "collapsed": true
   },
   "outputs": [],
   "source": [
    "cc=datetime.datetime.combine(weekends[1], datetime.time(0, 0))\n",
    "print(type(cc))\n"
   ]
  },
  {
   "cell_type": "code",
   "execution_count": null,
   "metadata": {
    "collapsed": true
   },
   "outputs": [],
   "source": []
  },
  {
   "cell_type": "code",
   "execution_count": null,
   "metadata": {
    "collapsed": true
   },
   "outputs": [],
   "source": []
  },
  {
   "cell_type": "code",
   "execution_count": null,
   "metadata": {
    "collapsed": true
   },
   "outputs": [],
   "source": []
  },
  {
   "cell_type": "code",
   "execution_count": null,
   "metadata": {
    "collapsed": true
   },
   "outputs": [],
   "source": []
  },
  {
   "cell_type": "code",
   "execution_count": 103,
   "metadata": {},
   "outputs": [],
   "source": [
    "weekdays=[(day.strftime('%Y-%m-%d')) for day in date_list if (day.isoweekday()==1 or day.isoweekday()==2 or day.isoweekday()==3 or day.isoweekday()==4 or day.isoweekday()==5)]\n",
    "weekends=[(day.strftime('%Y-%m-%d')) for day in date_list if (day.isoweekday()==6 or day.isoweekday()==7)]\n",
    "days=[]\n",
    "days.append(weekdays)\n",
    "days.append(weekends)"
   ]
  },
  {
   "cell_type": "code",
   "execution_count": null,
   "metadata": {
    "collapsed": true
   },
   "outputs": [],
   "source": []
  },
  {
   "cell_type": "code",
   "execution_count": 2,
   "metadata": {
    "collapsed": true
   },
   "outputs": [],
   "source": [
    "import csv\n",
    "import numpy as np\n",
    "import pandas as pd\n",
    "from datetime import datetime\n",
    "import matplotlib.pyplot as pyplot"
   ]
  },
  {
   "cell_type": "code",
   "execution_count": 3,
   "metadata": {
    "collapsed": true
   },
   "outputs": [],
   "source": [
    "#from datetime import datetime\n",
    "import datetime"
   ]
  },
  {
   "cell_type": "markdown",
   "metadata": {},
   "source": [
    "Function to convert CSV files to pandas DataFrame. Discarding the description sentences on top of each file"
   ]
  },
  {
   "cell_type": "code",
   "execution_count": 4,
   "metadata": {
    "collapsed": true
   },
   "outputs": [],
   "source": [
    "def csv2dataframe(fileName):\n",
    "    newdata=[]\n",
    "    with open(fileName,'r') as fileData:\n",
    "        rowData = csv.reader(fileData, \n",
    "                           delimiter = ',', \n",
    "                           quotechar = '\"')\n",
    "        for data in rowData:\n",
    "            if len(data)>2:\n",
    "                newdata.append(data[0:3])\n",
    "    data_array = np.asarray(newdata)\n",
    "    return convertDateTime(data_array)"
   ]
  },
  {
   "cell_type": "markdown",
   "metadata": {},
   "source": [
    "First Column of the array is datetime with 'PST' extension. This function strips timezone and converts it into numpy datetime64 format"
   ]
  },
  {
   "cell_type": "code",
   "execution_count": 5,
   "metadata": {
    "collapsed": true
   },
   "outputs": [],
   "source": [
    "def convertDateTime(data_array):\n",
    "    firstCol=data_array[1:,0]\n",
    "    stripFirstCol=[ele.rstrip(' PST') for ele in firstCol]\n",
    "    \n",
    "    dateTimeFirstCol=[np.datetime64(ele) for ele in stripFirstCol]\n",
    "    data_array[1:,0]=dateTimeFirstCol\n",
    "    data_frame=pd.DataFrame(data_array.reshape(len(data_array),-1))\n",
    "    \n",
    "    data_frame.index=data_frame[0]\n",
    "    data_frame=data_frame.drop(data_frame.columns[0],axis=1)\n",
    "\n",
    "\n",
    "    data_frame.columns=data_frame.iloc[0]\n",
    "    data_frame=data_frame.drop(data_frame.index[0])\n",
    "    \n",
    "    data_frame=data_frame.astype(str).astype(float)\n",
    "    data_frame.index=pd.to_datetime(data_frame.index)\n",
    "    data_frame=data_frame.resample('15T').mean()\n",
    "    data_frame=data_frame[1:]\n",
    "    return data_frame"
   ]
  },
  {
   "cell_type": "code",
   "execution_count": null,
   "metadata": {
    "collapsed": true
   },
   "outputs": [],
   "source": []
  },
  {
   "cell_type": "code",
   "execution_count": 6,
   "metadata": {
    "collapsed": true
   },
   "outputs": [],
   "source": [
    "reactivePfile='R3_12_47_1_AMI_residential_phase12_reactive_power.csv'\n",
    "realPfile='R3_12_47_1_AMI_residential_phase12_real_power.csv'\n",
    "reactiveVfile='R3_12_47_1_AMI_residential_phase12_reactive_voltage.csv'\n",
    "realVfile='R3_12_47_1_AMI_residential_phase12_real_voltage.csv'"
   ]
  },
  {
   "cell_type": "code",
   "execution_count": 7,
   "metadata": {
    "collapsed": true
   },
   "outputs": [],
   "source": [
    "reactivePower=csv2dataframe(reactivePfile)\n",
    "realPower=csv2dataframe(realPfile)\n",
    "reactiveVoltage=csv2dataframe(reactiveVfile)\n",
    "realVoltage=csv2dataframe(realVfile)"
   ]
  },
  {
   "cell_type": "code",
   "execution_count": 112,
   "metadata": {
    "collapsed": true
   },
   "outputs": [],
   "source": [
    "reactiveP=reactivePower\n",
    "realP=realPower\n",
    "reactiveV=reactiveVoltage\n",
    "realV=realVoltage"
   ]
  },
  {
   "cell_type": "code",
   "execution_count": null,
   "metadata": {
    "collapsed": true
   },
   "outputs": [],
   "source": []
  },
  {
   "cell_type": "code",
   "execution_count": 158,
   "metadata": {},
   "outputs": [],
   "source": [
    "def getDateList(startDate,endDate):\n",
    "    startDate=datetime.datetime.strptime(startDate,'%Y-%m-%d')\n",
    "    #startDate=realPower.index[0]\n",
    "    #startDate=startDate.date()\n",
    "\n",
    "    endDate=datetime.datetime.strptime(endDate,'%Y-%m-%d')\n",
    "    #endDate=realPower.index[len(realPower)-1]\n",
    "    #endDate=endDate.date()\n",
    "\n",
    "    numDays=endDate-startDate\n",
    "    numDays=numDays.days\n",
    "\n",
    "    date_list = [startDate + datetime.timedelta(days=x) for x in range(0, numDays)]\n",
    "    return date_list"
   ]
  },
  {
   "cell_type": "code",
   "execution_count": 160,
   "metadata": {},
   "outputs": [],
   "source": [
    "seasonDates=['2013-01-01','2013-03-01','2013-05-15']"
   ]
  },
  {
   "cell_type": "code",
   "execution_count": 109,
   "metadata": {
    "collapsed": true
   },
   "outputs": [],
   "source": [
    "def splitWDWE(data_frame,weekdays,weekends):\n",
    "    weekdayResult=getDays(data_frame,weekdays)\n",
    "    weekendResult=getDays(data_frame,weekends)\n",
    "    return weekdayResult, weekendResult"
   ]
  },
  {
   "cell_type": "code",
   "execution_count": 110,
   "metadata": {},
   "outputs": [],
   "source": [
    "def getDays(data_frame,days):\n",
    "    result=data_frame[days[0]]\n",
    "    for i in range(1,len(days)):\n",
    "            result=result.append(data_frame[days[i]])\n",
    "    return result"
   ]
  },
  {
   "cell_type": "code",
   "execution_count": 111,
   "metadata": {},
   "outputs": [],
   "source": [
    "realPowerWD, realPowerWE= splitWDWE(realPower, weekdays, weekends)"
   ]
  },
  {
   "cell_type": "markdown",
   "metadata": {},
   "source": [
    "CALCULATES THE REAL AND REACTIVE COEEFICIENTS OF WEEKDAYS AND WEEKENDS"
   ]
  },
  {
   "cell_type": "code",
   "execution_count": 166,
   "metadata": {},
   "outputs": [
    {
     "name": "stdout",
     "output_type": "stream",
     "text": [
      "Season  1\n",
      "2013-01-01\n",
      "2013-03-01\n",
      "Season  2\n",
      "2013-03-01\n",
      "2013-05-15\n"
     ]
    }
   ],
   "source": [
    "realCoefficients=[]\n",
    "reactiveCoefficients=[]\n",
    "\n",
    "for j in range(0,len(seasonDates)-1):\n",
    "    realPowerSeason=realP[seasonDates[j]:seasonDates[j+1]]\n",
    "    realVoltageSeason=realV[seasonDates[j]:seasonDates[j+1]]\n",
    "    reactivePowerSeason=reactiveP[seasonDates[j]:seasonDates[j+1]]\n",
    "    reactiveVoltageSeason=reactiveV[seasonDates[j]:seasonDates[j+1]]\n",
    "    date_list=getDateList(seasonDates[j],seasonDates[j+1])\n",
    "    print(\"Season \",j+1)\n",
    "    print(seasonDates[j])\n",
    "    print(seasonDates[j+1])\n",
    "    #print(date_list)  \n",
    "    \n",
    "    for i in (0,1):\n",
    "        if i==0: #weekdays\n",
    "            days=[(day.strftime('%Y-%m-%d')) for day in date_list if (day.isoweekday()==1 or day.isoweekday()==2 or day.isoweekday()==3 or day.isoweekday()==4 or day.isoweekday()==5)]\n",
    "            \n",
    "        else: #weekends\n",
    "            days=[(day.strftime('%Y-%m-%d')) for day in date_list if (day.isoweekday()==6 or day.isoweekday()==7)]\n",
    "            \n",
    "        realPower=getDays(realPowerSeason,days)\n",
    "        realVoltage=getDays(realVoltageSeason,days)\n",
    "        reactivePower=getDays(reactivePowerSeason,days)\n",
    "        reactiveVoltage=getDays(reactiveVoltageSeason,days)\n",
    "        \n",
    "        apparentVoltage=((realVoltage**2)+(reactiveVoltage**2))**0.5\n",
    "        apparentPower=((realPower**2)+(reactivePower**2))**0.5\n",
    "        independentVariable=apparentVoltage/240\n",
    "    \n",
    "        columnNames=independentVariable.columns\n",
    "\n",
    "        x=independentVariable[columnNames[1]]\n",
    "        x=x.values\n",
    "    \n",
    "        y1=realPower[columnNames[1]]\n",
    "        y1=y1.values\n",
    "        y2=reactivePower[columnNames[1]]\n",
    "    \n",
    "        coeff1=np.polyfit(x,y1,2)\n",
    "        coeff2=np.polyfit(x,y2,2)\n",
    "\n",
    "        realCoefficients.append(coeff1)\n",
    "        reactiveCoefficients.append(coeff2)\n",
    "    "
   ]
  },
  {
   "cell_type": "code",
   "execution_count": 162,
   "metadata": {},
   "outputs": [
    {
     "data": {
      "text/plain": [
       "[array([ 56418.39758563, -98757.75375698,  42925.11893468]),\n",
       " array([ 3475702.93077801, -7187860.19625601,  3717362.33792123]),\n",
       " array([ 2149184.41204291, -4443127.09932144,  2297443.82072255]),\n",
       " array([ 376221.67062633, -782093.56634102,  407601.45582893])]"
      ]
     },
     "execution_count": 162,
     "metadata": {},
     "output_type": "execute_result"
    }
   ],
   "source": [
    "realCoefficients"
   ]
  },
  {
   "cell_type": "code",
   "execution_count": 163,
   "metadata": {},
   "outputs": [
    {
     "data": {
      "text/plain": [
       "[array([ 14758.47149275, -26031.7761995 ,  11420.99567456]),\n",
       " array([  870188.19680072, -1799563.93174061,   930678.98787868]),\n",
       " array([  538578.6770475 , -1113433.20991234,   575731.93320586]),\n",
       " array([  93675.96147002, -194740.08063529,  101496.87145617])]"
      ]
     },
     "execution_count": 163,
     "metadata": {},
     "output_type": "execute_result"
    }
   ],
   "source": [
    "reactiveCoefficients"
   ]
  },
  {
   "cell_type": "code",
   "execution_count": null,
   "metadata": {
    "collapsed": true
   },
   "outputs": [],
   "source": []
  },
  {
   "cell_type": "code",
   "execution_count": null,
   "metadata": {
    "collapsed": true
   },
   "outputs": [],
   "source": []
  },
  {
   "cell_type": "code",
   "execution_count": null,
   "metadata": {
    "collapsed": true
   },
   "outputs": [],
   "source": []
  },
  {
   "cell_type": "code",
   "execution_count": 60,
   "metadata": {
    "collapsed": true
   },
   "outputs": [],
   "source": [
    "apparentVoltage=((realVoltage**2)+(reactiveVoltage**2))**0.5\n",
    "apparentPower=((realPower**2)+(reactivePower**2))**0.5\n",
    "independentVariable=apparentVoltage/240"
   ]
  },
  {
   "cell_type": "code",
   "execution_count": 61,
   "metadata": {
    "collapsed": true
   },
   "outputs": [],
   "source": [
    "columnNames=independentVariable.columns\n",
    "\n",
    "x=independentVariable[columnNames[1]]\n",
    "x=x.values\n",
    "xaxis=apparentVoltage[columnNames[1]]\n",
    "y1=realPower[columnNames[1]]\n",
    "y1=y1.values\n",
    "y2=reactivePower[columnNames[1]]"
   ]
  },
  {
   "cell_type": "markdown",
   "metadata": {},
   "source": [
    "Polynomial Curve Fitting"
   ]
  },
  {
   "cell_type": "code",
   "execution_count": 67,
   "metadata": {},
   "outputs": [
    {
     "name": "stdout",
     "output_type": "stream",
     "text": [
      "[ 1522732.69278573 -3141978.95747259  1621872.81569396]\n",
      "[ 382080.77344973 -788378.44524645  406956.44950509]\n"
     ]
    }
   ],
   "source": [
    "coeff1=np.polyfit(x,y1,2)\n",
    "print(coeff1)\n",
    "\n",
    "coeff2=np.polyfit(x,y2,2)\n",
    "print(coeff2)"
   ]
  },
  {
   "cell_type": "code",
   "execution_count": 68,
   "metadata": {},
   "outputs": [
    {
     "data": {
      "image/png": "[encoded data removed]",
      "text/plain": [
       "<matplotlib.figure.Figure at 0x21904588>"
      ]
     },
     "metadata": {},
     "output_type": "display_data"
    },
    {
     "data": {
      "image/png": "[encoded data removed]",
      "text/plain": [
       "<matplotlib.figure.Figure at 0x29631a90>"
      ]
     },
     "metadata": {},
     "output_type": "display_data"
    }
   ],
   "source": [
    "xx= np.linspace(x.min(),x.max(),100)\n",
    "xxaxis=np.linspace(xaxis.min(),xaxis.max(),100)\n",
    "\n",
    "poly1=np.poly1d(coeff1)\n",
    "fid,cx = pyplot.subplots()\n",
    "\n",
    "cx.plot(xaxis,y1,'ro',label='Actual')\n",
    "cx.plot(xxaxis,np.polyval(coeff1,xx),'-g',label='Predicted')\n",
    "\n",
    "cx.legend()\n",
    "cx.set_title('Real Power Consumption')\n",
    "cx.set_xlabel('Actual Terminal Voltage')\n",
    "cx.set_ylabel('Real Power')\n",
    "pyplot.show()\n",
    "\n",
    "\n",
    "poly2=np.poly1d(coeff2)\n",
    "fid,cx = pyplot.subplots()\n",
    "\n",
    "cx.plot(xaxis,y2,'ro',label='Actual')\n",
    "cx.plot(xxaxis,poly2(xx),'-g',label='Predicted')\n",
    "\n",
    "cx.legend()\n",
    "cx.set_title('Reactive Power Consumption')\n",
    "cx.set_xlabel('Actual Terminal Voltage')\n",
    "cx.set_ylabel('Reactive Power')\n",
    "pyplot.show()"
   ]
  },
  {
   "cell_type": "code",
   "execution_count": null,
   "metadata": {
    "collapsed": true
   },
   "outputs": [],
   "source": []
  },
  {
   "cell_type": "code",
   "execution_count": null,
   "metadata": {
    "collapsed": true
   },
   "outputs": [],
   "source": []
  },
  {
   "cell_type": "code",
   "execution_count": null,
   "metadata": {
    "collapsed": true
   },
   "outputs": [],
   "source": []
  },
  {
   "cell_type": "markdown",
   "metadata": {},
   "source": [
    "Gaussian Function Curve Fitting model"
   ]
  },
  {
   "cell_type": "code",
   "execution_count": 37,
   "metadata": {
    "collapsed": true
   },
   "outputs": [],
   "source": [
    "from numpy import sqrt, pi, exp, linspace, random"
   ]
  },
  {
   "cell_type": "code",
   "execution_count": 38,
   "metadata": {
    "collapsed": true
   },
   "outputs": [],
   "source": [
    "def gaussian(x, amp, cen, wid):\n",
    "   return amp * exp(-(x-cen)**2 /wid)\n",
    "#(amp/(sqrt(2*pi)*wid)) * exp(-(x-cen)**2 /(2*wid**2))\n",
    "#amp * exp(-(x-cen)**2 /wid)"
   ]
  },
  {
   "cell_type": "code",
   "execution_count": null,
   "metadata": {
    "collapsed": true
   },
   "outputs": [],
   "source": []
  },
  {
   "cell_type": "code",
   "execution_count": 39,
   "metadata": {
    "collapsed": true
   },
   "outputs": [],
   "source": [
    "def func(x, a, b, c):\n",
    "    return a*np.exp(-b*x) + c"
   ]
  },
  {
   "cell_type": "code",
   "execution_count": 40,
   "metadata": {
    "collapsed": true
   },
   "outputs": [],
   "source": [
    "def residuals(coeffs, y, t):\n",
    "     return y - model(t, coeffs)"
   ]
  },
  {
   "cell_type": "code",
   "execution_count": 41,
   "metadata": {
    "collapsed": true
   },
   "outputs": [],
   "source": [
    "def model(t, coeffs):\n",
    "    return coeffs[0] + coeffs[1] * np.exp( - ((t-coeffs[2])/coeffs[3])**2 )"
   ]
  },
  {
   "cell_type": "code",
   "execution_count": 42,
   "metadata": {
    "collapsed": true
   },
   "outputs": [],
   "source": [
    "def myfunc(x,a,b,c):\n",
    "    return (a*(x)**2)+b*x+c"
   ]
  },
  {
   "cell_type": "code",
   "execution_count": null,
   "metadata": {
    "collapsed": true
   },
   "outputs": [],
   "source": []
  },
  {
   "cell_type": "code",
   "execution_count": 43,
   "metadata": {
    "collapsed": true
   },
   "outputs": [],
   "source": [
    "from scipy.optimize import curve_fit"
   ]
  },
  {
   "cell_type": "code",
   "execution_count": 46,
   "metadata": {},
   "outputs": [
    {
     "name": "stdout",
     "output_type": "stream",
     "text": [
      "[  6.74958948e+07   2.68357743e+00   2.47127695e-01]\n",
      "[  1.74639656e+07   2.68672133e+00   2.47359275e-01]\n"
     ]
    }
   ],
   "source": [
    "#x = linspace(-10,10, 101)\n",
    "#ynew = gaussian(x, 2.33, 0.21, 1.51) + random.normal(0, 0.2, len(x))\n",
    "\n",
    "#init_vals = [1, 0, 1]     # for [amp, cen, wid]\n",
    "coefficient1, covar = curve_fit(gaussian, x, y1,maxfev=8000)#,method='lm',p0=init_vals)\n",
    "coefficient2, covar = curve_fit(gaussian, x, y2,maxfev=8000)#,method='lm',p0=init_vals)\n",
    "print (coefficient1)\n",
    "print (coefficient2)"
   ]
  },
  {
   "cell_type": "code",
   "execution_count": 47,
   "metadata": {},
   "outputs": [
    {
     "data": {
      "image/png": "[encoded data removed]",
      "text/plain": [
       "<matplotlib.figure.Figure at 0x42bc15828>"
      ]
     },
     "metadata": {},
     "output_type": "display_data"
    },
    {
     "data": {
      "image/png": "[encoded data removed]",
      "text/plain": [
       "<matplotlib.figure.Figure at 0xb9fe0390>"
      ]
     },
     "metadata": {},
     "output_type": "display_data"
    }
   ],
   "source": [
    "xx= np.linspace(x.min(),x.max(),100)\n",
    "xxaxis=np.linspace(xaxis.min(),xaxis.max(),100)\n",
    "\n",
    "\n",
    "polynomial1=np.poly1d(coefficient1)\n",
    "\n",
    "fid,cx = pyplot.subplots()\n",
    "cx.plot(xxaxis,polynomial1(xx),'-g',label='Predicted')\n",
    "cx.plot(xaxis,y1,'-r',label='Actual')\n",
    "cx.legend()\n",
    "cx.set_title('Real Power Consumption')\n",
    "cx.set_xlabel('Actual Terminal Voltage')\n",
    "cx.set_ylabel('Real Power')\n",
    "pyplot.show()\n",
    "\n",
    "\n",
    "\n",
    "polynomial2=np.poly1d(coefficient2)\n",
    "xx= np.linspace(x.min(),x.max(),100)\n",
    "xxaxis=np.linspace(xaxis.min(),xaxis.max(),100)\n",
    "\n",
    "fid,cx = pyplot.subplots()\n",
    "cx.plot(xxaxis,polynomial2(xx),'-g',label='Predicted')\n",
    "cx.plot(xaxis,y2,'-r',label='Actual')\n",
    "cx.legend()\n",
    "cx.set_title('Reactive Power Consumption')\n",
    "cx.set_xlabel('Actual Terminal Voltage')\n",
    "cx.set_ylabel('Reactive Power')\n",
    "pyplot.show()"
   ]
  },
  {
   "cell_type": "code",
   "execution_count": null,
   "metadata": {
    "collapsed": true
   },
   "outputs": [],
   "source": []
  },
  {
   "cell_type": "code",
   "execution_count": null,
   "metadata": {
    "collapsed": true
   },
   "outputs": [],
   "source": []
  },
  {
   "cell_type": "code",
   "execution_count": null,
   "metadata": {
    "collapsed": true
   },
   "outputs": [],
   "source": []
  },
  {
   "cell_type": "code",
   "execution_count": null,
   "metadata": {
    "collapsed": true
   },
   "outputs": [],
   "source": []
  },
  {
   "cell_type": "code",
   "execution_count": null,
   "metadata": {
    "collapsed": true
   },
   "outputs": [],
   "source": []
  },
  {
   "cell_type": "code",
   "execution_count": null,
   "metadata": {
    "collapsed": true
   },
   "outputs": [],
   "source": []
  },
  {
   "cell_type": "code",
   "execution_count": null,
   "metadata": {
    "collapsed": true
   },
   "outputs": [],
   "source": []
  },
  {
   "cell_type": "code",
   "execution_count": null,
   "metadata": {
    "collapsed": true
   },
   "outputs": [],
   "source": []
  }
 ],
 "metadata": {
  "kernelspec": {
   "display_name": "Python 3",
   "language": "python",
   "name": "python3"
  },
  "language_info": {
   "codemirror_mode": {
    "name": "ipython",
    "version": 3
   },
   "file_extension": ".py",
   "mimetype": "text/x-python",
   "name": "python",
   "nbconvert_exporter": "python",
   "pygments_lexer": "ipython3",
   "version": "3.6.1"
  }
 },
 "nbformat": 4,
 "nbformat_minor": 2
}
