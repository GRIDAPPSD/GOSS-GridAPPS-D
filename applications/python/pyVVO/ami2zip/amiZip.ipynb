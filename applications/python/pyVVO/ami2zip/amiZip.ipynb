{
 "cells": [
  {
   "cell_type": "code",
   "execution_count": 26,
   "metadata": {
    "collapsed": true
   },
   "outputs": [],
   "source": [
    "import pandas as pd\n",
    "import numpy as np\n",
    "\n",
    "reactivePower=pd.read_csv('R3_12_47_1_AMI_residential_phase12_reactive_power.csv',skiprows=8)\n",
    "realPower=pd.read_csv('R3_12_47_1_AMI_residential_phase12_real_power.csv',skiprows=8)\n",
    "\n",
    "a=realPower.shape\n",
    "a\n",
    "type(a)\n",
    "a[0]\n",
    "\n",
    "realPower.head(5)\n",
    "\n",
    "a=realPower.index\n",
    "\n",
    "aa=realPower.ix[:,0:1]\n",
    "\n",
    "type(aa)\n",
    "\n",
    "type(aa[:1])"
   ]
  },
  {
   "cell_type": "markdown",
   "metadata": {},
   "source": [
    "Create 15 minute interval of datetime array to retrive from the original data if it has minute by minute interval data"
   ]
  },
  {
   "cell_type": "code",
   "execution_count": 31,
   "metadata": {
    "collapsed": true
   },
   "outputs": [],
   "source": [
    "def dateArray15mins(data_array):\n",
    "    from datetime import datetime, timedelta\n",
    "\n",
    "    def datetime_range(start, end, delta):\n",
    "        current = start\n",
    "        while current < end:\n",
    "            yield current\n",
    "            current += delta\n",
    "\n",
    "    dts = [dt.strftime('%Y-%m-%dT%H:%M:%S') for dt in \n",
    "           datetime_range((np.datetime64(data_array[1,0]).astype(datetime)),\n",
    "                          (np.datetime64(data_array[len(data_array)-1,0]).astype(datetime)),\n",
    "                          timedelta(minutes=15))]\n",
    "    return dts\n",
    "\n",
    "#d=dts[1]\n",
    "#np.datetime64(d)"
   ]
  },
  {
   "cell_type": "code",
   "execution_count": 32,
   "metadata": {
    "collapsed": true
   },
   "outputs": [],
   "source": [
    "def ind15mins(data_array):\n",
    "    ind=[0]\n",
    "    ind.extend((np.arange(1,len(data_array),15)).tolist())\n",
    "    new_array=data_array[ind,:]\n",
    "    return new_array"
   ]
  },
  {
   "cell_type": "code",
   "execution_count": 35,
   "metadata": {
    "collapsed": true
   },
   "outputs": [],
   "source": [
    "newReactiveVoltage=ind15mins(reactiveVoltage)\n",
    "newRealVoltage=ind15mins(realVoltage)\n",
    "\n",
    "#d=dateArray15mins(realVdataArray)"
   ]
  },
  {
   "cell_type": "code",
   "execution_count": 174,
   "metadata": {
    "collapsed": true
   },
   "outputs": [],
   "source": [
    "rT=pd.DataFrame.transpose(reactivePower)\n",
    "aa=rT.unstack()"
   ]
  },
  {
   "cell_type": "code",
   "execution_count": 3,
   "metadata": {},
   "outputs": [],
   "source": [
    "#realPower['2013-07-01 00']"
   ]
  },
  {
   "cell_type": "code",
   "execution_count": 2,
   "metadata": {},
   "outputs": [],
   "source": [
    "#realPower.resample('30T').sum()"
   ]
  },
  {
   "cell_type": "code",
   "execution_count": 1,
   "metadata": {},
   "outputs": [],
   "source": [
    "#realPower.resample('30T').mean()#,how='mean')"
   ]
  },
  {
   "cell_type": "code",
   "execution_count": null,
   "metadata": {
    "collapsed": true
   },
   "outputs": [],
   "source": []
  },
  {
   "cell_type": "code",
   "execution_count": null,
   "metadata": {
    "collapsed": true
   },
   "outputs": [],
   "source": []
  },
  {
   "cell_type": "code",
   "execution_count": null,
   "metadata": {
    "collapsed": true
   },
   "outputs": [],
   "source": []
  },
  {
   "cell_type": "code",
   "execution_count": null,
   "metadata": {
    "collapsed": true
   },
   "outputs": [],
   "source": []
  },
  {
   "cell_type": "code",
   "execution_count": null,
   "metadata": {
    "collapsed": true
   },
   "outputs": [],
   "source": []
  },
  {
   "cell_type": "code",
   "execution_count": null,
   "metadata": {
    "collapsed": true
   },
   "outputs": [],
   "source": []
  },
  {
   "cell_type": "code",
   "execution_count": null,
   "metadata": {
    "collapsed": true
   },
   "outputs": [],
   "source": []
  },
  {
   "cell_type": "code",
   "execution_count": 4,
   "metadata": {
    "collapsed": true
   },
   "outputs": [],
   "source": [
    "import csv\n",
    "import numpy as np\n",
    "import pandas as pd\n",
    "from datetime import datetime\n",
    "import matplotlib.pyplot as pyplot"
   ]
  },
  {
   "cell_type": "markdown",
   "metadata": {},
   "source": [
    "Function to convert CSV files to pandas DataFrame. Discarding the description sentences on top of each file"
   ]
  },
  {
   "cell_type": "code",
   "execution_count": 5,
   "metadata": {
    "collapsed": true
   },
   "outputs": [],
   "source": [
    "def csv2array(fileName):\n",
    "    newdata=[]\n",
    "    with open(fileName,'r') as fileData:\n",
    "        rowData = csv.reader(fileData, \n",
    "                           delimiter = ',', \n",
    "                           quotechar = '\"')\n",
    "        for data in rowData:\n",
    "            if len(data)>2:\n",
    "                newdata.append(data)\n",
    "                type(data)\n",
    "    data_array = np.asarray(newdata)\n",
    "    return convertDateTime(data_array)"
   ]
  },
  {
   "cell_type": "markdown",
   "metadata": {},
   "source": [
    "Fist Column of the array is datetime with 'PST' extension. This function strips timezone and converts it into numpy datetime64 format"
   ]
  },
  {
   "cell_type": "code",
   "execution_count": 6,
   "metadata": {
    "collapsed": true
   },
   "outputs": [],
   "source": [
    "def convertDateTime(data_array):\n",
    "    firstCol=data_array[1:,0]\n",
    "    stripFirstCol=[ele.rstrip(' PST') for ele in firstCol]\n",
    "    dateTimeFirstCol=[np.datetime64(ele) for ele in stripFirstCol]\n",
    "    data_array[1:,0]=dateTimeFirstCol\n",
    "    data_frame=pd.DataFrame(data_array.reshape(len(data_array),-1))\n",
    "    \n",
    "    data_frame.index=data_frame[0]\n",
    "    data_frame=data_frame.drop(data_frame.columns[0],axis=1)\n",
    "\n",
    "\n",
    "    data_frame.columns=data_frame.iloc[0]\n",
    "    data_frame=data_frame.drop(data_frame.index[0])\n",
    "    \n",
    "    data_frame=data_frame.astype(str).astype(float)\n",
    "    data_frame.index=pd.to_datetime(data_frame.index)\n",
    "    data_frame=data_frame.resample('15T').mean()\n",
    "    return data_frame"
   ]
  },
  {
   "cell_type": "code",
   "execution_count": null,
   "metadata": {
    "collapsed": true
   },
   "outputs": [],
   "source": []
  },
  {
   "cell_type": "code",
   "execution_count": 7,
   "metadata": {
    "collapsed": true
   },
   "outputs": [],
   "source": [
    "reactivePfile='R3_12_47_1_AMI_residential_phase12_reactive_power.csv'\n",
    "realPfile='R3_12_47_1_AMI_residential_phase12_real_power.csv'\n",
    "reactiveVfile='R3_12_47_1_AMI_residential_phase12_reactive_voltage.csv'\n",
    "realVfile='R3_12_47_1_AMI_residential_phase12_real_voltage.csv'"
   ]
  },
  {
   "cell_type": "code",
   "execution_count": 8,
   "metadata": {
    "collapsed": true
   },
   "outputs": [],
   "source": [
    "reactivePower=csv2array(reactivePfile)\n",
    "realPower=csv2array(realPfile)\n",
    "\n",
    "reactiveVoltage=csv2array(reactiveVfile)\n",
    "realVoltage=csv2array(realVfile)"
   ]
  },
  {
   "cell_type": "code",
   "execution_count": 9,
   "metadata": {
    "collapsed": true
   },
   "outputs": [],
   "source": [
    "apparentVoltage=((realVoltage**2)+(reactiveVoltage**2))**0.5\n",
    "apparentPower=((realPower**2)+(reactivePower**2))**0.5\n",
    "independentVariable=apparentVoltage/240"
   ]
  },
  {
   "cell_type": "code",
   "execution_count": 144,
   "metadata": {},
   "outputs": [],
   "source": [
    "columnNames=independentVariable.columns\n",
    "\n",
    "x=independentVariable[columnNames[1]]\n",
    "y1=realPower[columnNames[1]]\n",
    "y2=reactivePower[columnNames[1]]"
   ]
  },
  {
   "cell_type": "code",
   "execution_count": null,
   "metadata": {
    "collapsed": true
   },
   "outputs": [],
   "source": []
  },
  {
   "cell_type": "markdown",
   "metadata": {},
   "source": [
    "Polynomial Curve Fitting"
   ]
  },
  {
   "cell_type": "code",
   "execution_count": 145,
   "metadata": {},
   "outputs": [
    {
     "name": "stdout",
     "output_type": "stream",
     "text": [
      "[ -2.39762727e+04   2.57965033e+04  -2.54458434e-05]\n",
      "[ -6.00902052e+03   6.46521331e+03  -6.37732728e-06]\n"
     ]
    }
   ],
   "source": [
    "coeff1=np.polyfit(x,y1,2)\n",
    "print(coeff1)\n",
    "\n",
    "coeff2=np.polyfit(x,y2,2)\n",
    "print(coeff2)"
   ]
  },
  {
   "cell_type": "code",
   "execution_count": 147,
   "metadata": {},
   "outputs": [
    {
     "data": {
      "image/png": "[encoded data removed]",
      "text/plain": [
       "<matplotlib.figure.Figure at 0xa7e9278>"
      ]
     },
     "metadata": {},
     "output_type": "display_data"
    },
    {
     "data": {
      "image/png": "[encoded data removed]",
      "text/plain": [
       "<matplotlib.figure.Figure at 0x98b7208>"
      ]
     },
     "metadata": {},
     "output_type": "display_data"
    }
   ],
   "source": [
    "poly1=np.poly1d(coeff1)\n",
    "\n",
    "xx= np.linspace(x.min(),x.max(),100)\n",
    "fid,cx = pyplot.subplots()\n",
    "\n",
    "cx.plot(xx,poly1(xx),'-g')\n",
    "cx.plot(x,y1,'-r')\n",
    "pyplot.show()\n",
    "\n",
    "\n",
    "poly2=np.poly1d(coeff2)\n",
    "\n",
    "xx= np.linspace(x.min(),x.max(),100)\n",
    "fid,cx = pyplot.subplots()\n",
    "\n",
    "cx.plot(xx,poly2(xx),'-g')\n",
    "cx.plot(x,y2,'-r')\n",
    "pyplot.show()"
   ]
  },
  {
   "cell_type": "code",
   "execution_count": null,
   "metadata": {},
   "outputs": [],
   "source": []
  },
  {
   "cell_type": "code",
   "execution_count": null,
   "metadata": {
    "collapsed": true
   },
   "outputs": [],
   "source": []
  },
  {
   "cell_type": "code",
   "execution_count": null,
   "metadata": {
    "collapsed": true
   },
   "outputs": [],
   "source": []
  },
  {
   "cell_type": "markdown",
   "metadata": {},
   "source": [
    "Gaussian Function Curve Fitting model"
   ]
  },
  {
   "cell_type": "code",
   "execution_count": 79,
   "metadata": {
    "collapsed": true
   },
   "outputs": [],
   "source": [
    "from numpy import sqrt, pi, exp, linspace, random"
   ]
  },
  {
   "cell_type": "code",
   "execution_count": 125,
   "metadata": {
    "collapsed": true
   },
   "outputs": [],
   "source": [
    "def gaussian(x, amp, cen, wid):\n",
    "   return amp * exp(-(x-cen)**2 /wid)\n",
    "#(amp/(sqrt(2*pi)*wid)) * exp(-(x-cen)**2 /(2*wid**2))\n",
    "#amp * exp(-(x-cen)**2 /wid)"
   ]
  },
  {
   "cell_type": "code",
   "execution_count": 126,
   "metadata": {
    "collapsed": true
   },
   "outputs": [],
   "source": [
    "from scipy.optimize import curve_fit"
   ]
  },
  {
   "cell_type": "code",
   "execution_count": 149,
   "metadata": {},
   "outputs": [
    {
     "name": "stdout",
     "output_type": "stream",
     "text": [
      "[  8.29282682e+02   1.04160716e+00   1.98590974e-04]\n",
      "[  2.07837822e+02   1.04160716e+00   1.98590724e-04]\n"
     ]
    }
   ],
   "source": [
    "#x = linspace(-10,10, 101)\n",
    "#ynew = gaussian(x, 2.33, 0.21, 1.51) + random.normal(0, 0.2, len(x))\n",
    "\n",
    "#init_vals = [1, 0, 1]     # for [amp, cen, wid]\n",
    "coefficient1, covar = curve_fit(gaussian, x, y1)#,method='lm',p0=init_vals)\n",
    "coefficient2, covar = curve_fit(gaussian, x, y2)#,method='lm',p0=init_vals)\n",
    "print (coefficient1)\n",
    "print (coefficient2)"
   ]
  },
  {
   "cell_type": "code",
   "execution_count": 151,
   "metadata": {},
   "outputs": [
    {
     "data": {
      "image/png": "[encoded data removed]",
      "text/plain": [
       "<matplotlib.figure.Figure at 0x6e140b8>"
      ]
     },
     "metadata": {},
     "output_type": "display_data"
    },
    {
     "data": {
      "image/png": "[encoded data removed]",
      "text/plain": [
       "<matplotlib.figure.Figure at 0x6e960f0>"
      ]
     },
     "metadata": {},
     "output_type": "display_data"
    }
   ],
   "source": [
    "polynomial1=np.poly1d(coefficient1)\n",
    "\n",
    "xx= np.linspace(x.min(),x.max(),100)\n",
    "\n",
    "fid,cx = pyplot.subplots()\n",
    "\n",
    "cx.plot(xx,polynomial1(xx),'-g')\n",
    "cx.plot(x,y1,'-r')\n",
    "pyplot.show()\n",
    "\n",
    "\n",
    "polynomial2=np.poly1d(coefficient2)\n",
    "xx= np.linspace(x.min(),x.max(),100)\n",
    "\n",
    "fid,cx = pyplot.subplots()\n",
    "cx.plot(xx,polynomial2(xx),'-g')\n",
    "cx.plot(x,y2,'-r')\n",
    "pyplot.show()"
   ]
  },
  {
   "cell_type": "code",
   "execution_count": null,
   "metadata": {
    "collapsed": true
   },
   "outputs": [],
   "source": []
  }
 ],
 "metadata": {
  "kernelspec": {
   "display_name": "Python 3",
   "language": "python",
   "name": "python3"
  },
  "language_info": {
   "codemirror_mode": {
    "name": "ipython",
    "version": 3
   },
   "file_extension": ".py",
   "mimetype": "text/x-python",
   "name": "python",
   "nbconvert_exporter": "python",
   "pygments_lexer": "ipython3",
   "version": "3.6.1"
  }
 },
 "nbformat": 4,
 "nbformat_minor": 2
}
